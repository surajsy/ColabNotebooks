{
  "nbformat": 4,
  "nbformat_minor": 0,
  "metadata": {
    "colab": {
      "name": "SNLI.ipynb",
      "provenance": [],
      "collapsed_sections": [],
      "authorship_tag": "ABX9TyPQGyjzVB91ZP3M0Ywyo/5F",
      "include_colab_link": true
    },
    "kernelspec": {
      "name": "python3",
      "display_name": "Python 3"
    },
    "accelerator": "GPU",
    "widgets": {
      "application/vnd.jupyter.widget-state+json": {
        "21f8df839ed64007a32ecb908fc427f8": {
          "model_module": "@jupyter-widgets/controls",
          "model_name": "HBoxModel",
          "state": {
            "_view_name": "HBoxView",
            "_dom_classes": [],
            "_model_name": "HBoxModel",
            "_view_module": "@jupyter-widgets/controls",
            "_model_module_version": "1.5.0",
            "_view_count": null,
            "_view_module_version": "1.5.0",
            "box_style": "",
            "layout": "IPY_MODEL_cde656642bef4629bf15fac0525a9588",
            "_model_module": "@jupyter-widgets/controls",
            "children": [
              "IPY_MODEL_e6b485c5b6ad47e78c729c379889fd67",
              "IPY_MODEL_9b8f1bfefb9043d79a7801a1acf38d3d"
            ]
          }
        },
        "cde656642bef4629bf15fac0525a9588": {
          "model_module": "@jupyter-widgets/base",
          "model_name": "LayoutModel",
          "state": {
            "_view_name": "LayoutView",
            "grid_template_rows": null,
            "right": null,
            "justify_content": null,
            "_view_module": "@jupyter-widgets/base",
            "overflow": null,
            "_model_module_version": "1.2.0",
            "_view_count": null,
            "flex_flow": null,
            "width": null,
            "min_width": null,
            "border": null,
            "align_items": null,
            "bottom": null,
            "_model_module": "@jupyter-widgets/base",
            "top": null,
            "grid_column": null,
            "overflow_y": null,
            "overflow_x": null,
            "grid_auto_flow": null,
            "grid_area": null,
            "grid_template_columns": null,
            "flex": null,
            "_model_name": "LayoutModel",
            "justify_items": null,
            "grid_row": null,
            "max_height": null,
            "align_content": null,
            "visibility": null,
            "align_self": null,
            "height": null,
            "min_height": null,
            "padding": null,
            "grid_auto_rows": null,
            "grid_gap": null,
            "max_width": null,
            "order": null,
            "_view_module_version": "1.2.0",
            "grid_template_areas": null,
            "object_position": null,
            "object_fit": null,
            "grid_auto_columns": null,
            "margin": null,
            "display": null,
            "left": null
          }
        },
        "e6b485c5b6ad47e78c729c379889fd67": {
          "model_module": "@jupyter-widgets/controls",
          "model_name": "FloatProgressModel",
          "state": {
            "_view_name": "ProgressView",
            "style": "IPY_MODEL_def4f302fde8474ebc6d545cead484f2",
            "_dom_classes": [],
            "description": "Dl Completed...: 100%",
            "_model_name": "FloatProgressModel",
            "bar_style": "success",
            "max": 1,
            "_view_module": "@jupyter-widgets/controls",
            "_model_module_version": "1.5.0",
            "value": 1,
            "_view_count": null,
            "_view_module_version": "1.5.0",
            "orientation": "horizontal",
            "min": 0,
            "description_tooltip": null,
            "_model_module": "@jupyter-widgets/controls",
            "layout": "IPY_MODEL_11a4c288bd9f4386913e7f8bb0da6d23"
          }
        },
        "9b8f1bfefb9043d79a7801a1acf38d3d": {
          "model_module": "@jupyter-widgets/controls",
          "model_name": "HTMLModel",
          "state": {
            "_view_name": "HTMLView",
            "style": "IPY_MODEL_af7a9ab5b0054944b97e9cab4732836d",
            "_dom_classes": [],
            "description": "",
            "_model_name": "HTMLModel",
            "placeholder": "​",
            "_view_module": "@jupyter-widgets/controls",
            "_model_module_version": "1.5.0",
            "value": " 1/1 [00:20&lt;00:00, 21.00s/ url]",
            "_view_count": null,
            "_view_module_version": "1.5.0",
            "description_tooltip": null,
            "_model_module": "@jupyter-widgets/controls",
            "layout": "IPY_MODEL_d49b8dbb27604a55816830e8642f3277"
          }
        },
        "def4f302fde8474ebc6d545cead484f2": {
          "model_module": "@jupyter-widgets/controls",
          "model_name": "ProgressStyleModel",
          "state": {
            "_view_name": "StyleView",
            "_model_name": "ProgressStyleModel",
            "description_width": "initial",
            "_view_module": "@jupyter-widgets/base",
            "_model_module_version": "1.5.0",
            "_view_count": null,
            "_view_module_version": "1.2.0",
            "bar_color": null,
            "_model_module": "@jupyter-widgets/controls"
          }
        },
        "11a4c288bd9f4386913e7f8bb0da6d23": {
          "model_module": "@jupyter-widgets/base",
          "model_name": "LayoutModel",
          "state": {
            "_view_name": "LayoutView",
            "grid_template_rows": null,
            "right": null,
            "justify_content": null,
            "_view_module": "@jupyter-widgets/base",
            "overflow": null,
            "_model_module_version": "1.2.0",
            "_view_count": null,
            "flex_flow": null,
            "width": null,
            "min_width": null,
            "border": null,
            "align_items": null,
            "bottom": null,
            "_model_module": "@jupyter-widgets/base",
            "top": null,
            "grid_column": null,
            "overflow_y": null,
            "overflow_x": null,
            "grid_auto_flow": null,
            "grid_area": null,
            "grid_template_columns": null,
            "flex": null,
            "_model_name": "LayoutModel",
            "justify_items": null,
            "grid_row": null,
            "max_height": null,
            "align_content": null,
            "visibility": null,
            "align_self": null,
            "height": null,
            "min_height": null,
            "padding": null,
            "grid_auto_rows": null,
            "grid_gap": null,
            "max_width": null,
            "order": null,
            "_view_module_version": "1.2.0",
            "grid_template_areas": null,
            "object_position": null,
            "object_fit": null,
            "grid_auto_columns": null,
            "margin": null,
            "display": null,
            "left": null
          }
        },
        "af7a9ab5b0054944b97e9cab4732836d": {
          "model_module": "@jupyter-widgets/controls",
          "model_name": "DescriptionStyleModel",
          "state": {
            "_view_name": "StyleView",
            "_model_name": "DescriptionStyleModel",
            "description_width": "",
            "_view_module": "@jupyter-widgets/base",
            "_model_module_version": "1.5.0",
            "_view_count": null,
            "_view_module_version": "1.2.0",
            "_model_module": "@jupyter-widgets/controls"
          }
        },
        "d49b8dbb27604a55816830e8642f3277": {
          "model_module": "@jupyter-widgets/base",
          "model_name": "LayoutModel",
          "state": {
            "_view_name": "LayoutView",
            "grid_template_rows": null,
            "right": null,
            "justify_content": null,
            "_view_module": "@jupyter-widgets/base",
            "overflow": null,
            "_model_module_version": "1.2.0",
            "_view_count": null,
            "flex_flow": null,
            "width": null,
            "min_width": null,
            "border": null,
            "align_items": null,
            "bottom": null,
            "_model_module": "@jupyter-widgets/base",
            "top": null,
            "grid_column": null,
            "overflow_y": null,
            "overflow_x": null,
            "grid_auto_flow": null,
            "grid_area": null,
            "grid_template_columns": null,
            "flex": null,
            "_model_name": "LayoutModel",
            "justify_items": null,
            "grid_row": null,
            "max_height": null,
            "align_content": null,
            "visibility": null,
            "align_self": null,
            "height": null,
            "min_height": null,
            "padding": null,
            "grid_auto_rows": null,
            "grid_gap": null,
            "max_width": null,
            "order": null,
            "_view_module_version": "1.2.0",
            "grid_template_areas": null,
            "object_position": null,
            "object_fit": null,
            "grid_auto_columns": null,
            "margin": null,
            "display": null,
            "left": null
          }
        },
        "bfb7b460640646d5aed52c579cb62553": {
          "model_module": "@jupyter-widgets/controls",
          "model_name": "HBoxModel",
          "state": {
            "_view_name": "HBoxView",
            "_dom_classes": [],
            "_model_name": "HBoxModel",
            "_view_module": "@jupyter-widgets/controls",
            "_model_module_version": "1.5.0",
            "_view_count": null,
            "_view_module_version": "1.5.0",
            "box_style": "",
            "layout": "IPY_MODEL_e163464be8dc4bf7a9beb406aef1a5e9",
            "_model_module": "@jupyter-widgets/controls",
            "children": [
              "IPY_MODEL_7d9f0ea3e55b49028aba1d89dd3bbe9a",
              "IPY_MODEL_071391b7e80e4355bee3a61b81a3428e"
            ]
          }
        },
        "e163464be8dc4bf7a9beb406aef1a5e9": {
          "model_module": "@jupyter-widgets/base",
          "model_name": "LayoutModel",
          "state": {
            "_view_name": "LayoutView",
            "grid_template_rows": null,
            "right": null,
            "justify_content": null,
            "_view_module": "@jupyter-widgets/base",
            "overflow": null,
            "_model_module_version": "1.2.0",
            "_view_count": null,
            "flex_flow": null,
            "width": null,
            "min_width": null,
            "border": null,
            "align_items": null,
            "bottom": null,
            "_model_module": "@jupyter-widgets/base",
            "top": null,
            "grid_column": null,
            "overflow_y": null,
            "overflow_x": null,
            "grid_auto_flow": null,
            "grid_area": null,
            "grid_template_columns": null,
            "flex": null,
            "_model_name": "LayoutModel",
            "justify_items": null,
            "grid_row": null,
            "max_height": null,
            "align_content": null,
            "visibility": null,
            "align_self": null,
            "height": null,
            "min_height": null,
            "padding": null,
            "grid_auto_rows": null,
            "grid_gap": null,
            "max_width": null,
            "order": null,
            "_view_module_version": "1.2.0",
            "grid_template_areas": null,
            "object_position": null,
            "object_fit": null,
            "grid_auto_columns": null,
            "margin": null,
            "display": null,
            "left": null
          }
        },
        "7d9f0ea3e55b49028aba1d89dd3bbe9a": {
          "model_module": "@jupyter-widgets/controls",
          "model_name": "FloatProgressModel",
          "state": {
            "_view_name": "ProgressView",
            "style": "IPY_MODEL_41c04aef7b5940809fe9a947976330be",
            "_dom_classes": [],
            "description": "Dl Size...: 100%",
            "_model_name": "FloatProgressModel",
            "bar_style": "success",
            "max": 1,
            "_view_module": "@jupyter-widgets/controls",
            "_model_module_version": "1.5.0",
            "value": 1,
            "_view_count": null,
            "_view_module_version": "1.5.0",
            "orientation": "horizontal",
            "min": 0,
            "description_tooltip": null,
            "_model_module": "@jupyter-widgets/controls",
            "layout": "IPY_MODEL_a4642e3389bb4541a829412ebde20c2d"
          }
        },
        "071391b7e80e4355bee3a61b81a3428e": {
          "model_module": "@jupyter-widgets/controls",
          "model_name": "HTMLModel",
          "state": {
            "_view_name": "HTMLView",
            "style": "IPY_MODEL_6a30b1a0312445b5a76dd908d691c986",
            "_dom_classes": [],
            "description": "",
            "_model_name": "HTMLModel",
            "placeholder": "​",
            "_view_module": "@jupyter-widgets/controls",
            "_model_module_version": "1.5.0",
            "value": " 90/90 [00:20&lt;00:00,  4.29 MiB/s]",
            "_view_count": null,
            "_view_module_version": "1.5.0",
            "description_tooltip": null,
            "_model_module": "@jupyter-widgets/controls",
            "layout": "IPY_MODEL_b954418e438a426884ad5ffbc525081c"
          }
        },
        "41c04aef7b5940809fe9a947976330be": {
          "model_module": "@jupyter-widgets/controls",
          "model_name": "ProgressStyleModel",
          "state": {
            "_view_name": "StyleView",
            "_model_name": "ProgressStyleModel",
            "description_width": "initial",
            "_view_module": "@jupyter-widgets/base",
            "_model_module_version": "1.5.0",
            "_view_count": null,
            "_view_module_version": "1.2.0",
            "bar_color": null,
            "_model_module": "@jupyter-widgets/controls"
          }
        },
        "a4642e3389bb4541a829412ebde20c2d": {
          "model_module": "@jupyter-widgets/base",
          "model_name": "LayoutModel",
          "state": {
            "_view_name": "LayoutView",
            "grid_template_rows": null,
            "right": null,
            "justify_content": null,
            "_view_module": "@jupyter-widgets/base",
            "overflow": null,
            "_model_module_version": "1.2.0",
            "_view_count": null,
            "flex_flow": null,
            "width": null,
            "min_width": null,
            "border": null,
            "align_items": null,
            "bottom": null,
            "_model_module": "@jupyter-widgets/base",
            "top": null,
            "grid_column": null,
            "overflow_y": null,
            "overflow_x": null,
            "grid_auto_flow": null,
            "grid_area": null,
            "grid_template_columns": null,
            "flex": null,
            "_model_name": "LayoutModel",
            "justify_items": null,
            "grid_row": null,
            "max_height": null,
            "align_content": null,
            "visibility": null,
            "align_self": null,
            "height": null,
            "min_height": null,
            "padding": null,
            "grid_auto_rows": null,
            "grid_gap": null,
            "max_width": null,
            "order": null,
            "_view_module_version": "1.2.0",
            "grid_template_areas": null,
            "object_position": null,
            "object_fit": null,
            "grid_auto_columns": null,
            "margin": null,
            "display": null,
            "left": null
          }
        },
        "6a30b1a0312445b5a76dd908d691c986": {
          "model_module": "@jupyter-widgets/controls",
          "model_name": "DescriptionStyleModel",
          "state": {
            "_view_name": "StyleView",
            "_model_name": "DescriptionStyleModel",
            "description_width": "",
            "_view_module": "@jupyter-widgets/base",
            "_model_module_version": "1.5.0",
            "_view_count": null,
            "_view_module_version": "1.2.0",
            "_model_module": "@jupyter-widgets/controls"
          }
        },
        "b954418e438a426884ad5ffbc525081c": {
          "model_module": "@jupyter-widgets/base",
          "model_name": "LayoutModel",
          "state": {
            "_view_name": "LayoutView",
            "grid_template_rows": null,
            "right": null,
            "justify_content": null,
            "_view_module": "@jupyter-widgets/base",
            "overflow": null,
            "_model_module_version": "1.2.0",
            "_view_count": null,
            "flex_flow": null,
            "width": null,
            "min_width": null,
            "border": null,
            "align_items": null,
            "bottom": null,
            "_model_module": "@jupyter-widgets/base",
            "top": null,
            "grid_column": null,
            "overflow_y": null,
            "overflow_x": null,
            "grid_auto_flow": null,
            "grid_area": null,
            "grid_template_columns": null,
            "flex": null,
            "_model_name": "LayoutModel",
            "justify_items": null,
            "grid_row": null,
            "max_height": null,
            "align_content": null,
            "visibility": null,
            "align_self": null,
            "height": null,
            "min_height": null,
            "padding": null,
            "grid_auto_rows": null,
            "grid_gap": null,
            "max_width": null,
            "order": null,
            "_view_module_version": "1.2.0",
            "grid_template_areas": null,
            "object_position": null,
            "object_fit": null,
            "grid_auto_columns": null,
            "margin": null,
            "display": null,
            "left": null
          }
        },
        "48892aaf487b4b4bb0a9bd8dd076b23c": {
          "model_module": "@jupyter-widgets/controls",
          "model_name": "HBoxModel",
          "state": {
            "_view_name": "HBoxView",
            "_dom_classes": [],
            "_model_name": "HBoxModel",
            "_view_module": "@jupyter-widgets/controls",
            "_model_module_version": "1.5.0",
            "_view_count": null,
            "_view_module_version": "1.5.0",
            "box_style": "",
            "layout": "IPY_MODEL_f7eeb83911b54aa897715b3e71687ad8",
            "_model_module": "@jupyter-widgets/controls",
            "children": [
              "IPY_MODEL_5a93d2bc45174107a1a58b5dbae3ecd6",
              "IPY_MODEL_670d05558bd540ff8a4bfdc03733666f"
            ]
          }
        },
        "f7eeb83911b54aa897715b3e71687ad8": {
          "model_module": "@jupyter-widgets/base",
          "model_name": "LayoutModel",
          "state": {
            "_view_name": "LayoutView",
            "grid_template_rows": null,
            "right": null,
            "justify_content": null,
            "_view_module": "@jupyter-widgets/base",
            "overflow": null,
            "_model_module_version": "1.2.0",
            "_view_count": null,
            "flex_flow": null,
            "width": null,
            "min_width": null,
            "border": null,
            "align_items": null,
            "bottom": null,
            "_model_module": "@jupyter-widgets/base",
            "top": null,
            "grid_column": null,
            "overflow_y": null,
            "overflow_x": null,
            "grid_auto_flow": null,
            "grid_area": null,
            "grid_template_columns": null,
            "flex": null,
            "_model_name": "LayoutModel",
            "justify_items": null,
            "grid_row": null,
            "max_height": null,
            "align_content": null,
            "visibility": null,
            "align_self": null,
            "height": null,
            "min_height": null,
            "padding": null,
            "grid_auto_rows": null,
            "grid_gap": null,
            "max_width": null,
            "order": null,
            "_view_module_version": "1.2.0",
            "grid_template_areas": null,
            "object_position": null,
            "object_fit": null,
            "grid_auto_columns": null,
            "margin": null,
            "display": null,
            "left": null
          }
        },
        "5a93d2bc45174107a1a58b5dbae3ecd6": {
          "model_module": "@jupyter-widgets/controls",
          "model_name": "FloatProgressModel",
          "state": {
            "_view_name": "ProgressView",
            "style": "IPY_MODEL_1050d3909a124312a96e1d32db7b518d",
            "_dom_classes": [],
            "description": "Extraction completed...: 100%",
            "_model_name": "FloatProgressModel",
            "bar_style": "success",
            "max": 1,
            "_view_module": "@jupyter-widgets/controls",
            "_model_module_version": "1.5.0",
            "value": 1,
            "_view_count": null,
            "_view_module_version": "1.5.0",
            "orientation": "horizontal",
            "min": 0,
            "description_tooltip": null,
            "_model_module": "@jupyter-widgets/controls",
            "layout": "IPY_MODEL_83f28d5f23bd45c5bd4da9c4d19ca829"
          }
        },
        "670d05558bd540ff8a4bfdc03733666f": {
          "model_module": "@jupyter-widgets/controls",
          "model_name": "HTMLModel",
          "state": {
            "_view_name": "HTMLView",
            "style": "IPY_MODEL_6496ffcb3e9946d0ad3ba77c18e3e037",
            "_dom_classes": [],
            "description": "",
            "_model_name": "HTMLModel",
            "placeholder": "​",
            "_view_module": "@jupyter-widgets/controls",
            "_model_module_version": "1.5.0",
            "value": " 1/1 [00:20&lt;00:00, 20.94s/ file]",
            "_view_count": null,
            "_view_module_version": "1.5.0",
            "description_tooltip": null,
            "_model_module": "@jupyter-widgets/controls",
            "layout": "IPY_MODEL_faea93ca2b324c4a9438a88ea277de69"
          }
        },
        "1050d3909a124312a96e1d32db7b518d": {
          "model_module": "@jupyter-widgets/controls",
          "model_name": "ProgressStyleModel",
          "state": {
            "_view_name": "StyleView",
            "_model_name": "ProgressStyleModel",
            "description_width": "initial",
            "_view_module": "@jupyter-widgets/base",
            "_model_module_version": "1.5.0",
            "_view_count": null,
            "_view_module_version": "1.2.0",
            "bar_color": null,
            "_model_module": "@jupyter-widgets/controls"
          }
        },
        "83f28d5f23bd45c5bd4da9c4d19ca829": {
          "model_module": "@jupyter-widgets/base",
          "model_name": "LayoutModel",
          "state": {
            "_view_name": "LayoutView",
            "grid_template_rows": null,
            "right": null,
            "justify_content": null,
            "_view_module": "@jupyter-widgets/base",
            "overflow": null,
            "_model_module_version": "1.2.0",
            "_view_count": null,
            "flex_flow": null,
            "width": null,
            "min_width": null,
            "border": null,
            "align_items": null,
            "bottom": null,
            "_model_module": "@jupyter-widgets/base",
            "top": null,
            "grid_column": null,
            "overflow_y": null,
            "overflow_x": null,
            "grid_auto_flow": null,
            "grid_area": null,
            "grid_template_columns": null,
            "flex": null,
            "_model_name": "LayoutModel",
            "justify_items": null,
            "grid_row": null,
            "max_height": null,
            "align_content": null,
            "visibility": null,
            "align_self": null,
            "height": null,
            "min_height": null,
            "padding": null,
            "grid_auto_rows": null,
            "grid_gap": null,
            "max_width": null,
            "order": null,
            "_view_module_version": "1.2.0",
            "grid_template_areas": null,
            "object_position": null,
            "object_fit": null,
            "grid_auto_columns": null,
            "margin": null,
            "display": null,
            "left": null
          }
        },
        "6496ffcb3e9946d0ad3ba77c18e3e037": {
          "model_module": "@jupyter-widgets/controls",
          "model_name": "DescriptionStyleModel",
          "state": {
            "_view_name": "StyleView",
            "_model_name": "DescriptionStyleModel",
            "description_width": "",
            "_view_module": "@jupyter-widgets/base",
            "_model_module_version": "1.5.0",
            "_view_count": null,
            "_view_module_version": "1.2.0",
            "_model_module": "@jupyter-widgets/controls"
          }
        },
        "faea93ca2b324c4a9438a88ea277de69": {
          "model_module": "@jupyter-widgets/base",
          "model_name": "LayoutModel",
          "state": {
            "_view_name": "LayoutView",
            "grid_template_rows": null,
            "right": null,
            "justify_content": null,
            "_view_module": "@jupyter-widgets/base",
            "overflow": null,
            "_model_module_version": "1.2.0",
            "_view_count": null,
            "flex_flow": null,
            "width": null,
            "min_width": null,
            "border": null,
            "align_items": null,
            "bottom": null,
            "_model_module": "@jupyter-widgets/base",
            "top": null,
            "grid_column": null,
            "overflow_y": null,
            "overflow_x": null,
            "grid_auto_flow": null,
            "grid_area": null,
            "grid_template_columns": null,
            "flex": null,
            "_model_name": "LayoutModel",
            "justify_items": null,
            "grid_row": null,
            "max_height": null,
            "align_content": null,
            "visibility": null,
            "align_self": null,
            "height": null,
            "min_height": null,
            "padding": null,
            "grid_auto_rows": null,
            "grid_gap": null,
            "max_width": null,
            "order": null,
            "_view_module_version": "1.2.0",
            "grid_template_areas": null,
            "object_position": null,
            "object_fit": null,
            "grid_auto_columns": null,
            "margin": null,
            "display": null,
            "left": null
          }
        },
        "b963a4a824d948899f708ad5758190b7": {
          "model_module": "@jupyter-widgets/controls",
          "model_name": "HBoxModel",
          "state": {
            "_view_name": "HBoxView",
            "_dom_classes": [],
            "_model_name": "HBoxModel",
            "_view_module": "@jupyter-widgets/controls",
            "_model_module_version": "1.5.0",
            "_view_count": null,
            "_view_module_version": "1.5.0",
            "box_style": "",
            "layout": "IPY_MODEL_93c62b90e8b24a2692644b43e1427633",
            "_model_module": "@jupyter-widgets/controls",
            "children": [
              "IPY_MODEL_26edf59dce0c49238172c19958dbe1c5",
              "IPY_MODEL_b603520fb80c4760b834122372fd1093"
            ]
          }
        },
        "93c62b90e8b24a2692644b43e1427633": {
          "model_module": "@jupyter-widgets/base",
          "model_name": "LayoutModel",
          "state": {
            "_view_name": "LayoutView",
            "grid_template_rows": null,
            "right": null,
            "justify_content": null,
            "_view_module": "@jupyter-widgets/base",
            "overflow": null,
            "_model_module_version": "1.2.0",
            "_view_count": null,
            "flex_flow": null,
            "width": null,
            "min_width": null,
            "border": null,
            "align_items": null,
            "bottom": null,
            "_model_module": "@jupyter-widgets/base",
            "top": null,
            "grid_column": null,
            "overflow_y": null,
            "overflow_x": null,
            "grid_auto_flow": null,
            "grid_area": null,
            "grid_template_columns": null,
            "flex": null,
            "_model_name": "LayoutModel",
            "justify_items": null,
            "grid_row": null,
            "max_height": null,
            "align_content": null,
            "visibility": null,
            "align_self": null,
            "height": null,
            "min_height": null,
            "padding": null,
            "grid_auto_rows": null,
            "grid_gap": null,
            "max_width": null,
            "order": null,
            "_view_module_version": "1.2.0",
            "grid_template_areas": null,
            "object_position": null,
            "object_fit": null,
            "grid_auto_columns": null,
            "margin": null,
            "display": null,
            "left": null
          }
        },
        "26edf59dce0c49238172c19958dbe1c5": {
          "model_module": "@jupyter-widgets/controls",
          "model_name": "FloatProgressModel",
          "state": {
            "_view_name": "ProgressView",
            "style": "IPY_MODEL_fbb363ce9c114f39b41522f16cfee64e",
            "_dom_classes": [],
            "description": "",
            "_model_name": "FloatProgressModel",
            "bar_style": "info",
            "max": 1,
            "_view_module": "@jupyter-widgets/controls",
            "_model_module_version": "1.5.0",
            "value": 1,
            "_view_count": null,
            "_view_module_version": "1.5.0",
            "orientation": "horizontal",
            "min": 0,
            "description_tooltip": null,
            "_model_module": "@jupyter-widgets/controls",
            "layout": "IPY_MODEL_e0a181a3c819407485998d98daf32070"
          }
        },
        "b603520fb80c4760b834122372fd1093": {
          "model_module": "@jupyter-widgets/controls",
          "model_name": "HTMLModel",
          "state": {
            "_view_name": "HTMLView",
            "style": "IPY_MODEL_7f7b69c712cf486f974d9765b53a46bf",
            "_dom_classes": [],
            "description": "",
            "_model_name": "HTMLModel",
            "placeholder": "​",
            "_view_module": "@jupyter-widgets/controls",
            "_model_module_version": "1.5.0",
            "value": " 10000/0 [00:03&lt;00:00, 3451.23 examples/s]",
            "_view_count": null,
            "_view_module_version": "1.5.0",
            "description_tooltip": null,
            "_model_module": "@jupyter-widgets/controls",
            "layout": "IPY_MODEL_12fbf24393a24e50ad7c72581a98ae6f"
          }
        },
        "fbb363ce9c114f39b41522f16cfee64e": {
          "model_module": "@jupyter-widgets/controls",
          "model_name": "ProgressStyleModel",
          "state": {
            "_view_name": "StyleView",
            "_model_name": "ProgressStyleModel",
            "description_width": "initial",
            "_view_module": "@jupyter-widgets/base",
            "_model_module_version": "1.5.0",
            "_view_count": null,
            "_view_module_version": "1.2.0",
            "bar_color": null,
            "_model_module": "@jupyter-widgets/controls"
          }
        },
        "e0a181a3c819407485998d98daf32070": {
          "model_module": "@jupyter-widgets/base",
          "model_name": "LayoutModel",
          "state": {
            "_view_name": "LayoutView",
            "grid_template_rows": null,
            "right": null,
            "justify_content": null,
            "_view_module": "@jupyter-widgets/base",
            "overflow": null,
            "_model_module_version": "1.2.0",
            "_view_count": null,
            "flex_flow": null,
            "width": null,
            "min_width": null,
            "border": null,
            "align_items": null,
            "bottom": null,
            "_model_module": "@jupyter-widgets/base",
            "top": null,
            "grid_column": null,
            "overflow_y": null,
            "overflow_x": null,
            "grid_auto_flow": null,
            "grid_area": null,
            "grid_template_columns": null,
            "flex": null,
            "_model_name": "LayoutModel",
            "justify_items": null,
            "grid_row": null,
            "max_height": null,
            "align_content": null,
            "visibility": null,
            "align_self": null,
            "height": null,
            "min_height": null,
            "padding": null,
            "grid_auto_rows": null,
            "grid_gap": null,
            "max_width": null,
            "order": null,
            "_view_module_version": "1.2.0",
            "grid_template_areas": null,
            "object_position": null,
            "object_fit": null,
            "grid_auto_columns": null,
            "margin": null,
            "display": null,
            "left": null
          }
        },
        "7f7b69c712cf486f974d9765b53a46bf": {
          "model_module": "@jupyter-widgets/controls",
          "model_name": "DescriptionStyleModel",
          "state": {
            "_view_name": "StyleView",
            "_model_name": "DescriptionStyleModel",
            "description_width": "",
            "_view_module": "@jupyter-widgets/base",
            "_model_module_version": "1.5.0",
            "_view_count": null,
            "_view_module_version": "1.2.0",
            "_model_module": "@jupyter-widgets/controls"
          }
        },
        "12fbf24393a24e50ad7c72581a98ae6f": {
          "model_module": "@jupyter-widgets/base",
          "model_name": "LayoutModel",
          "state": {
            "_view_name": "LayoutView",
            "grid_template_rows": null,
            "right": null,
            "justify_content": null,
            "_view_module": "@jupyter-widgets/base",
            "overflow": null,
            "_model_module_version": "1.2.0",
            "_view_count": null,
            "flex_flow": null,
            "width": null,
            "min_width": null,
            "border": null,
            "align_items": null,
            "bottom": null,
            "_model_module": "@jupyter-widgets/base",
            "top": null,
            "grid_column": null,
            "overflow_y": null,
            "overflow_x": null,
            "grid_auto_flow": null,
            "grid_area": null,
            "grid_template_columns": null,
            "flex": null,
            "_model_name": "LayoutModel",
            "justify_items": null,
            "grid_row": null,
            "max_height": null,
            "align_content": null,
            "visibility": null,
            "align_self": null,
            "height": null,
            "min_height": null,
            "padding": null,
            "grid_auto_rows": null,
            "grid_gap": null,
            "max_width": null,
            "order": null,
            "_view_module_version": "1.2.0",
            "grid_template_areas": null,
            "object_position": null,
            "object_fit": null,
            "grid_auto_columns": null,
            "margin": null,
            "display": null,
            "left": null
          }
        },
        "def51fbd5f554b2788226219fc5e2c39": {
          "model_module": "@jupyter-widgets/controls",
          "model_name": "HBoxModel",
          "state": {
            "_view_name": "HBoxView",
            "_dom_classes": [],
            "_model_name": "HBoxModel",
            "_view_module": "@jupyter-widgets/controls",
            "_model_module_version": "1.5.0",
            "_view_count": null,
            "_view_module_version": "1.5.0",
            "box_style": "",
            "layout": "IPY_MODEL_fb80e3a8c9c24f28aaca8ed95b911ecc",
            "_model_module": "@jupyter-widgets/controls",
            "children": [
              "IPY_MODEL_b7024f861e91481c88fa1c08e81c0c3d",
              "IPY_MODEL_56d9ba82172d4ffc99b0540e691c88e8"
            ]
          }
        },
        "fb80e3a8c9c24f28aaca8ed95b911ecc": {
          "model_module": "@jupyter-widgets/base",
          "model_name": "LayoutModel",
          "state": {
            "_view_name": "LayoutView",
            "grid_template_rows": null,
            "right": null,
            "justify_content": null,
            "_view_module": "@jupyter-widgets/base",
            "overflow": null,
            "_model_module_version": "1.2.0",
            "_view_count": null,
            "flex_flow": null,
            "width": null,
            "min_width": null,
            "border": null,
            "align_items": null,
            "bottom": null,
            "_model_module": "@jupyter-widgets/base",
            "top": null,
            "grid_column": null,
            "overflow_y": null,
            "overflow_x": null,
            "grid_auto_flow": null,
            "grid_area": null,
            "grid_template_columns": null,
            "flex": null,
            "_model_name": "LayoutModel",
            "justify_items": null,
            "grid_row": null,
            "max_height": null,
            "align_content": null,
            "visibility": null,
            "align_self": null,
            "height": null,
            "min_height": null,
            "padding": null,
            "grid_auto_rows": null,
            "grid_gap": null,
            "max_width": null,
            "order": null,
            "_view_module_version": "1.2.0",
            "grid_template_areas": null,
            "object_position": null,
            "object_fit": null,
            "grid_auto_columns": null,
            "margin": null,
            "display": null,
            "left": null
          }
        },
        "b7024f861e91481c88fa1c08e81c0c3d": {
          "model_module": "@jupyter-widgets/controls",
          "model_name": "FloatProgressModel",
          "state": {
            "_view_name": "ProgressView",
            "style": "IPY_MODEL_8b439135ea5943b0bcdce4a9829773ae",
            "_dom_classes": [],
            "description": "  0%",
            "_model_name": "FloatProgressModel",
            "bar_style": "danger",
            "max": 10000,
            "_view_module": "@jupyter-widgets/controls",
            "_model_module_version": "1.5.0",
            "value": 0,
            "_view_count": null,
            "_view_module_version": "1.5.0",
            "orientation": "horizontal",
            "min": 0,
            "description_tooltip": null,
            "_model_module": "@jupyter-widgets/controls",
            "layout": "IPY_MODEL_9087397da281461daa3880b20ede628f"
          }
        },
        "56d9ba82172d4ffc99b0540e691c88e8": {
          "model_module": "@jupyter-widgets/controls",
          "model_name": "HTMLModel",
          "state": {
            "_view_name": "HTMLView",
            "style": "IPY_MODEL_878941a9533e46a2ac07a5241874e960",
            "_dom_classes": [],
            "description": "",
            "_model_name": "HTMLModel",
            "placeholder": "​",
            "_view_module": "@jupyter-widgets/controls",
            "_model_module_version": "1.5.0",
            "value": " 0/10000 [00:00&lt;?, ? examples/s]",
            "_view_count": null,
            "_view_module_version": "1.5.0",
            "description_tooltip": null,
            "_model_module": "@jupyter-widgets/controls",
            "layout": "IPY_MODEL_9fa50b5e0f994bbe8b4c04bd85cd0ed8"
          }
        },
        "8b439135ea5943b0bcdce4a9829773ae": {
          "model_module": "@jupyter-widgets/controls",
          "model_name": "ProgressStyleModel",
          "state": {
            "_view_name": "StyleView",
            "_model_name": "ProgressStyleModel",
            "description_width": "initial",
            "_view_module": "@jupyter-widgets/base",
            "_model_module_version": "1.5.0",
            "_view_count": null,
            "_view_module_version": "1.2.0",
            "bar_color": null,
            "_model_module": "@jupyter-widgets/controls"
          }
        },
        "9087397da281461daa3880b20ede628f": {
          "model_module": "@jupyter-widgets/base",
          "model_name": "LayoutModel",
          "state": {
            "_view_name": "LayoutView",
            "grid_template_rows": null,
            "right": null,
            "justify_content": null,
            "_view_module": "@jupyter-widgets/base",
            "overflow": null,
            "_model_module_version": "1.2.0",
            "_view_count": null,
            "flex_flow": null,
            "width": null,
            "min_width": null,
            "border": null,
            "align_items": null,
            "bottom": null,
            "_model_module": "@jupyter-widgets/base",
            "top": null,
            "grid_column": null,
            "overflow_y": null,
            "overflow_x": null,
            "grid_auto_flow": null,
            "grid_area": null,
            "grid_template_columns": null,
            "flex": null,
            "_model_name": "LayoutModel",
            "justify_items": null,
            "grid_row": null,
            "max_height": null,
            "align_content": null,
            "visibility": null,
            "align_self": null,
            "height": null,
            "min_height": null,
            "padding": null,
            "grid_auto_rows": null,
            "grid_gap": null,
            "max_width": null,
            "order": null,
            "_view_module_version": "1.2.0",
            "grid_template_areas": null,
            "object_position": null,
            "object_fit": null,
            "grid_auto_columns": null,
            "margin": null,
            "display": null,
            "left": null
          }
        },
        "878941a9533e46a2ac07a5241874e960": {
          "model_module": "@jupyter-widgets/controls",
          "model_name": "DescriptionStyleModel",
          "state": {
            "_view_name": "StyleView",
            "_model_name": "DescriptionStyleModel",
            "description_width": "",
            "_view_module": "@jupyter-widgets/base",
            "_model_module_version": "1.5.0",
            "_view_count": null,
            "_view_module_version": "1.2.0",
            "_model_module": "@jupyter-widgets/controls"
          }
        },
        "9fa50b5e0f994bbe8b4c04bd85cd0ed8": {
          "model_module": "@jupyter-widgets/base",
          "model_name": "LayoutModel",
          "state": {
            "_view_name": "LayoutView",
            "grid_template_rows": null,
            "right": null,
            "justify_content": null,
            "_view_module": "@jupyter-widgets/base",
            "overflow": null,
            "_model_module_version": "1.2.0",
            "_view_count": null,
            "flex_flow": null,
            "width": null,
            "min_width": null,
            "border": null,
            "align_items": null,
            "bottom": null,
            "_model_module": "@jupyter-widgets/base",
            "top": null,
            "grid_column": null,
            "overflow_y": null,
            "overflow_x": null,
            "grid_auto_flow": null,
            "grid_area": null,
            "grid_template_columns": null,
            "flex": null,
            "_model_name": "LayoutModel",
            "justify_items": null,
            "grid_row": null,
            "max_height": null,
            "align_content": null,
            "visibility": null,
            "align_self": null,
            "height": null,
            "min_height": null,
            "padding": null,
            "grid_auto_rows": null,
            "grid_gap": null,
            "max_width": null,
            "order": null,
            "_view_module_version": "1.2.0",
            "grid_template_areas": null,
            "object_position": null,
            "object_fit": null,
            "grid_auto_columns": null,
            "margin": null,
            "display": null,
            "left": null
          }
        },
        "6efdd16146b2476a868afbbf04417c64": {
          "model_module": "@jupyter-widgets/controls",
          "model_name": "HBoxModel",
          "state": {
            "_view_name": "HBoxView",
            "_dom_classes": [],
            "_model_name": "HBoxModel",
            "_view_module": "@jupyter-widgets/controls",
            "_model_module_version": "1.5.0",
            "_view_count": null,
            "_view_module_version": "1.5.0",
            "box_style": "",
            "layout": "IPY_MODEL_010cdd6103b3498db144f02d0a11b4c7",
            "_model_module": "@jupyter-widgets/controls",
            "children": [
              "IPY_MODEL_2b484b5be6294591b6b9379beaeba318",
              "IPY_MODEL_50bd4d6921474d0bbd2a58a080a2b8a7"
            ]
          }
        },
        "010cdd6103b3498db144f02d0a11b4c7": {
          "model_module": "@jupyter-widgets/base",
          "model_name": "LayoutModel",
          "state": {
            "_view_name": "LayoutView",
            "grid_template_rows": null,
            "right": null,
            "justify_content": null,
            "_view_module": "@jupyter-widgets/base",
            "overflow": null,
            "_model_module_version": "1.2.0",
            "_view_count": null,
            "flex_flow": null,
            "width": null,
            "min_width": null,
            "border": null,
            "align_items": null,
            "bottom": null,
            "_model_module": "@jupyter-widgets/base",
            "top": null,
            "grid_column": null,
            "overflow_y": null,
            "overflow_x": null,
            "grid_auto_flow": null,
            "grid_area": null,
            "grid_template_columns": null,
            "flex": null,
            "_model_name": "LayoutModel",
            "justify_items": null,
            "grid_row": null,
            "max_height": null,
            "align_content": null,
            "visibility": null,
            "align_self": null,
            "height": null,
            "min_height": null,
            "padding": null,
            "grid_auto_rows": null,
            "grid_gap": null,
            "max_width": null,
            "order": null,
            "_view_module_version": "1.2.0",
            "grid_template_areas": null,
            "object_position": null,
            "object_fit": null,
            "grid_auto_columns": null,
            "margin": null,
            "display": null,
            "left": null
          }
        },
        "2b484b5be6294591b6b9379beaeba318": {
          "model_module": "@jupyter-widgets/controls",
          "model_name": "FloatProgressModel",
          "state": {
            "_view_name": "ProgressView",
            "style": "IPY_MODEL_862173683b0f4a1cbd69028d61385382",
            "_dom_classes": [],
            "description": "",
            "_model_name": "FloatProgressModel",
            "bar_style": "info",
            "max": 1,
            "_view_module": "@jupyter-widgets/controls",
            "_model_module_version": "1.5.0",
            "value": 1,
            "_view_count": null,
            "_view_module_version": "1.5.0",
            "orientation": "horizontal",
            "min": 0,
            "description_tooltip": null,
            "_model_module": "@jupyter-widgets/controls",
            "layout": "IPY_MODEL_139c24cd30eb4e32a6dc9a762a5fbe1c"
          }
        },
        "50bd4d6921474d0bbd2a58a080a2b8a7": {
          "model_module": "@jupyter-widgets/controls",
          "model_name": "HTMLModel",
          "state": {
            "_view_name": "HTMLView",
            "style": "IPY_MODEL_9c7691c6b6f542dcaf0e29af40dac720",
            "_dom_classes": [],
            "description": "",
            "_model_name": "HTMLModel",
            "placeholder": "​",
            "_view_module": "@jupyter-widgets/controls",
            "_model_module_version": "1.5.0",
            "value": " 10000/0 [00:02&lt;00:00, 3492.19 examples/s]",
            "_view_count": null,
            "_view_module_version": "1.5.0",
            "description_tooltip": null,
            "_model_module": "@jupyter-widgets/controls",
            "layout": "IPY_MODEL_ff1ccadc60de484cb2c05fc7ea455a2c"
          }
        },
        "862173683b0f4a1cbd69028d61385382": {
          "model_module": "@jupyter-widgets/controls",
          "model_name": "ProgressStyleModel",
          "state": {
            "_view_name": "StyleView",
            "_model_name": "ProgressStyleModel",
            "description_width": "initial",
            "_view_module": "@jupyter-widgets/base",
            "_model_module_version": "1.5.0",
            "_view_count": null,
            "_view_module_version": "1.2.0",
            "bar_color": null,
            "_model_module": "@jupyter-widgets/controls"
          }
        },
        "139c24cd30eb4e32a6dc9a762a5fbe1c": {
          "model_module": "@jupyter-widgets/base",
          "model_name": "LayoutModel",
          "state": {
            "_view_name": "LayoutView",
            "grid_template_rows": null,
            "right": null,
            "justify_content": null,
            "_view_module": "@jupyter-widgets/base",
            "overflow": null,
            "_model_module_version": "1.2.0",
            "_view_count": null,
            "flex_flow": null,
            "width": null,
            "min_width": null,
            "border": null,
            "align_items": null,
            "bottom": null,
            "_model_module": "@jupyter-widgets/base",
            "top": null,
            "grid_column": null,
            "overflow_y": null,
            "overflow_x": null,
            "grid_auto_flow": null,
            "grid_area": null,
            "grid_template_columns": null,
            "flex": null,
            "_model_name": "LayoutModel",
            "justify_items": null,
            "grid_row": null,
            "max_height": null,
            "align_content": null,
            "visibility": null,
            "align_self": null,
            "height": null,
            "min_height": null,
            "padding": null,
            "grid_auto_rows": null,
            "grid_gap": null,
            "max_width": null,
            "order": null,
            "_view_module_version": "1.2.0",
            "grid_template_areas": null,
            "object_position": null,
            "object_fit": null,
            "grid_auto_columns": null,
            "margin": null,
            "display": null,
            "left": null
          }
        },
        "9c7691c6b6f542dcaf0e29af40dac720": {
          "model_module": "@jupyter-widgets/controls",
          "model_name": "DescriptionStyleModel",
          "state": {
            "_view_name": "StyleView",
            "_model_name": "DescriptionStyleModel",
            "description_width": "",
            "_view_module": "@jupyter-widgets/base",
            "_model_module_version": "1.5.0",
            "_view_count": null,
            "_view_module_version": "1.2.0",
            "_model_module": "@jupyter-widgets/controls"
          }
        },
        "ff1ccadc60de484cb2c05fc7ea455a2c": {
          "model_module": "@jupyter-widgets/base",
          "model_name": "LayoutModel",
          "state": {
            "_view_name": "LayoutView",
            "grid_template_rows": null,
            "right": null,
            "justify_content": null,
            "_view_module": "@jupyter-widgets/base",
            "overflow": null,
            "_model_module_version": "1.2.0",
            "_view_count": null,
            "flex_flow": null,
            "width": null,
            "min_width": null,
            "border": null,
            "align_items": null,
            "bottom": null,
            "_model_module": "@jupyter-widgets/base",
            "top": null,
            "grid_column": null,
            "overflow_y": null,
            "overflow_x": null,
            "grid_auto_flow": null,
            "grid_area": null,
            "grid_template_columns": null,
            "flex": null,
            "_model_name": "LayoutModel",
            "justify_items": null,
            "grid_row": null,
            "max_height": null,
            "align_content": null,
            "visibility": null,
            "align_self": null,
            "height": null,
            "min_height": null,
            "padding": null,
            "grid_auto_rows": null,
            "grid_gap": null,
            "max_width": null,
            "order": null,
            "_view_module_version": "1.2.0",
            "grid_template_areas": null,
            "object_position": null,
            "object_fit": null,
            "grid_auto_columns": null,
            "margin": null,
            "display": null,
            "left": null
          }
        },
        "0ba360addaec4e7f9da3ab280b30ea78": {
          "model_module": "@jupyter-widgets/controls",
          "model_name": "HBoxModel",
          "state": {
            "_view_name": "HBoxView",
            "_dom_classes": [],
            "_model_name": "HBoxModel",
            "_view_module": "@jupyter-widgets/controls",
            "_model_module_version": "1.5.0",
            "_view_count": null,
            "_view_module_version": "1.5.0",
            "box_style": "",
            "layout": "IPY_MODEL_c27b311175724feeaaeec84eae2c49f1",
            "_model_module": "@jupyter-widgets/controls",
            "children": [
              "IPY_MODEL_b1d1d4366fdf481ea616b2822a252894",
              "IPY_MODEL_f5c34ae786a5446cb4da705c27076b29"
            ]
          }
        },
        "c27b311175724feeaaeec84eae2c49f1": {
          "model_module": "@jupyter-widgets/base",
          "model_name": "LayoutModel",
          "state": {
            "_view_name": "LayoutView",
            "grid_template_rows": null,
            "right": null,
            "justify_content": null,
            "_view_module": "@jupyter-widgets/base",
            "overflow": null,
            "_model_module_version": "1.2.0",
            "_view_count": null,
            "flex_flow": null,
            "width": null,
            "min_width": null,
            "border": null,
            "align_items": null,
            "bottom": null,
            "_model_module": "@jupyter-widgets/base",
            "top": null,
            "grid_column": null,
            "overflow_y": null,
            "overflow_x": null,
            "grid_auto_flow": null,
            "grid_area": null,
            "grid_template_columns": null,
            "flex": null,
            "_model_name": "LayoutModel",
            "justify_items": null,
            "grid_row": null,
            "max_height": null,
            "align_content": null,
            "visibility": null,
            "align_self": null,
            "height": null,
            "min_height": null,
            "padding": null,
            "grid_auto_rows": null,
            "grid_gap": null,
            "max_width": null,
            "order": null,
            "_view_module_version": "1.2.0",
            "grid_template_areas": null,
            "object_position": null,
            "object_fit": null,
            "grid_auto_columns": null,
            "margin": null,
            "display": null,
            "left": null
          }
        },
        "b1d1d4366fdf481ea616b2822a252894": {
          "model_module": "@jupyter-widgets/controls",
          "model_name": "FloatProgressModel",
          "state": {
            "_view_name": "ProgressView",
            "style": "IPY_MODEL_e483b2f93c754631adfcc2413298e6fa",
            "_dom_classes": [],
            "description": "  0%",
            "_model_name": "FloatProgressModel",
            "bar_style": "danger",
            "max": 10000,
            "_view_module": "@jupyter-widgets/controls",
            "_model_module_version": "1.5.0",
            "value": 0,
            "_view_count": null,
            "_view_module_version": "1.5.0",
            "orientation": "horizontal",
            "min": 0,
            "description_tooltip": null,
            "_model_module": "@jupyter-widgets/controls",
            "layout": "IPY_MODEL_a3e10b830ff345e394a9ac65443f4000"
          }
        },
        "f5c34ae786a5446cb4da705c27076b29": {
          "model_module": "@jupyter-widgets/controls",
          "model_name": "HTMLModel",
          "state": {
            "_view_name": "HTMLView",
            "style": "IPY_MODEL_6deb90b47ded4026980be1aa2b1e86d2",
            "_dom_classes": [],
            "description": "",
            "_model_name": "HTMLModel",
            "placeholder": "​",
            "_view_module": "@jupyter-widgets/controls",
            "_model_module_version": "1.5.0",
            "value": " 0/10000 [00:00&lt;?, ? examples/s]",
            "_view_count": null,
            "_view_module_version": "1.5.0",
            "description_tooltip": null,
            "_model_module": "@jupyter-widgets/controls",
            "layout": "IPY_MODEL_2034a399dfcc4654bfbe4bda775ecbbf"
          }
        },
        "e483b2f93c754631adfcc2413298e6fa": {
          "model_module": "@jupyter-widgets/controls",
          "model_name": "ProgressStyleModel",
          "state": {
            "_view_name": "StyleView",
            "_model_name": "ProgressStyleModel",
            "description_width": "initial",
            "_view_module": "@jupyter-widgets/base",
            "_model_module_version": "1.5.0",
            "_view_count": null,
            "_view_module_version": "1.2.0",
            "bar_color": null,
            "_model_module": "@jupyter-widgets/controls"
          }
        },
        "a3e10b830ff345e394a9ac65443f4000": {
          "model_module": "@jupyter-widgets/base",
          "model_name": "LayoutModel",
          "state": {
            "_view_name": "LayoutView",
            "grid_template_rows": null,
            "right": null,
            "justify_content": null,
            "_view_module": "@jupyter-widgets/base",
            "overflow": null,
            "_model_module_version": "1.2.0",
            "_view_count": null,
            "flex_flow": null,
            "width": null,
            "min_width": null,
            "border": null,
            "align_items": null,
            "bottom": null,
            "_model_module": "@jupyter-widgets/base",
            "top": null,
            "grid_column": null,
            "overflow_y": null,
            "overflow_x": null,
            "grid_auto_flow": null,
            "grid_area": null,
            "grid_template_columns": null,
            "flex": null,
            "_model_name": "LayoutModel",
            "justify_items": null,
            "grid_row": null,
            "max_height": null,
            "align_content": null,
            "visibility": null,
            "align_self": null,
            "height": null,
            "min_height": null,
            "padding": null,
            "grid_auto_rows": null,
            "grid_gap": null,
            "max_width": null,
            "order": null,
            "_view_module_version": "1.2.0",
            "grid_template_areas": null,
            "object_position": null,
            "object_fit": null,
            "grid_auto_columns": null,
            "margin": null,
            "display": null,
            "left": null
          }
        },
        "6deb90b47ded4026980be1aa2b1e86d2": {
          "model_module": "@jupyter-widgets/controls",
          "model_name": "DescriptionStyleModel",
          "state": {
            "_view_name": "StyleView",
            "_model_name": "DescriptionStyleModel",
            "description_width": "",
            "_view_module": "@jupyter-widgets/base",
            "_model_module_version": "1.5.0",
            "_view_count": null,
            "_view_module_version": "1.2.0",
            "_model_module": "@jupyter-widgets/controls"
          }
        },
        "2034a399dfcc4654bfbe4bda775ecbbf": {
          "model_module": "@jupyter-widgets/base",
          "model_name": "LayoutModel",
          "state": {
            "_view_name": "LayoutView",
            "grid_template_rows": null,
            "right": null,
            "justify_content": null,
            "_view_module": "@jupyter-widgets/base",
            "overflow": null,
            "_model_module_version": "1.2.0",
            "_view_count": null,
            "flex_flow": null,
            "width": null,
            "min_width": null,
            "border": null,
            "align_items": null,
            "bottom": null,
            "_model_module": "@jupyter-widgets/base",
            "top": null,
            "grid_column": null,
            "overflow_y": null,
            "overflow_x": null,
            "grid_auto_flow": null,
            "grid_area": null,
            "grid_template_columns": null,
            "flex": null,
            "_model_name": "LayoutModel",
            "justify_items": null,
            "grid_row": null,
            "max_height": null,
            "align_content": null,
            "visibility": null,
            "align_self": null,
            "height": null,
            "min_height": null,
            "padding": null,
            "grid_auto_rows": null,
            "grid_gap": null,
            "max_width": null,
            "order": null,
            "_view_module_version": "1.2.0",
            "grid_template_areas": null,
            "object_position": null,
            "object_fit": null,
            "grid_auto_columns": null,
            "margin": null,
            "display": null,
            "left": null
          }
        },
        "b44d6f896ca44222beeb3dc10131ac85": {
          "model_module": "@jupyter-widgets/controls",
          "model_name": "HBoxModel",
          "state": {
            "_view_name": "HBoxView",
            "_dom_classes": [],
            "_model_name": "HBoxModel",
            "_view_module": "@jupyter-widgets/controls",
            "_model_module_version": "1.5.0",
            "_view_count": null,
            "_view_module_version": "1.5.0",
            "box_style": "",
            "layout": "IPY_MODEL_68ce05cf6bb34c3282e146afb6b1af29",
            "_model_module": "@jupyter-widgets/controls",
            "children": [
              "IPY_MODEL_f2964f094407413dbc4f26872daf91ea",
              "IPY_MODEL_944b5aa708214e27bf7a70ae51200320"
            ]
          }
        },
        "68ce05cf6bb34c3282e146afb6b1af29": {
          "model_module": "@jupyter-widgets/base",
          "model_name": "LayoutModel",
          "state": {
            "_view_name": "LayoutView",
            "grid_template_rows": null,
            "right": null,
            "justify_content": null,
            "_view_module": "@jupyter-widgets/base",
            "overflow": null,
            "_model_module_version": "1.2.0",
            "_view_count": null,
            "flex_flow": null,
            "width": null,
            "min_width": null,
            "border": null,
            "align_items": null,
            "bottom": null,
            "_model_module": "@jupyter-widgets/base",
            "top": null,
            "grid_column": null,
            "overflow_y": null,
            "overflow_x": null,
            "grid_auto_flow": null,
            "grid_area": null,
            "grid_template_columns": null,
            "flex": null,
            "_model_name": "LayoutModel",
            "justify_items": null,
            "grid_row": null,
            "max_height": null,
            "align_content": null,
            "visibility": null,
            "align_self": null,
            "height": null,
            "min_height": null,
            "padding": null,
            "grid_auto_rows": null,
            "grid_gap": null,
            "max_width": null,
            "order": null,
            "_view_module_version": "1.2.0",
            "grid_template_areas": null,
            "object_position": null,
            "object_fit": null,
            "grid_auto_columns": null,
            "margin": null,
            "display": null,
            "left": null
          }
        },
        "f2964f094407413dbc4f26872daf91ea": {
          "model_module": "@jupyter-widgets/controls",
          "model_name": "FloatProgressModel",
          "state": {
            "_view_name": "ProgressView",
            "style": "IPY_MODEL_f9bf630ddaea432c92c357e553cd9cc6",
            "_dom_classes": [],
            "description": "",
            "_model_name": "FloatProgressModel",
            "bar_style": "info",
            "max": 1,
            "_view_module": "@jupyter-widgets/controls",
            "_model_module_version": "1.5.0",
            "value": 1,
            "_view_count": null,
            "_view_module_version": "1.5.0",
            "orientation": "horizontal",
            "min": 0,
            "description_tooltip": null,
            "_model_module": "@jupyter-widgets/controls",
            "layout": "IPY_MODEL_7acc6c50d1024e338095b001e74f9ba8"
          }
        },
        "944b5aa708214e27bf7a70ae51200320": {
          "model_module": "@jupyter-widgets/controls",
          "model_name": "HTMLModel",
          "state": {
            "_view_name": "HTMLView",
            "style": "IPY_MODEL_4e2ebb8cfa38457ea793038db4efd9bc",
            "_dom_classes": [],
            "description": "",
            "_model_name": "HTMLModel",
            "placeholder": "​",
            "_view_module": "@jupyter-widgets/controls",
            "_model_module_version": "1.5.0",
            "value": " 550152/0 [02:42&lt;00:00, 3441.79 examples/s]",
            "_view_count": null,
            "_view_module_version": "1.5.0",
            "description_tooltip": null,
            "_model_module": "@jupyter-widgets/controls",
            "layout": "IPY_MODEL_3f646302c0fe41b9a71a2a2e9e54dcac"
          }
        },
        "f9bf630ddaea432c92c357e553cd9cc6": {
          "model_module": "@jupyter-widgets/controls",
          "model_name": "ProgressStyleModel",
          "state": {
            "_view_name": "StyleView",
            "_model_name": "ProgressStyleModel",
            "description_width": "initial",
            "_view_module": "@jupyter-widgets/base",
            "_model_module_version": "1.5.0",
            "_view_count": null,
            "_view_module_version": "1.2.0",
            "bar_color": null,
            "_model_module": "@jupyter-widgets/controls"
          }
        },
        "7acc6c50d1024e338095b001e74f9ba8": {
          "model_module": "@jupyter-widgets/base",
          "model_name": "LayoutModel",
          "state": {
            "_view_name": "LayoutView",
            "grid_template_rows": null,
            "right": null,
            "justify_content": null,
            "_view_module": "@jupyter-widgets/base",
            "overflow": null,
            "_model_module_version": "1.2.0",
            "_view_count": null,
            "flex_flow": null,
            "width": null,
            "min_width": null,
            "border": null,
            "align_items": null,
            "bottom": null,
            "_model_module": "@jupyter-widgets/base",
            "top": null,
            "grid_column": null,
            "overflow_y": null,
            "overflow_x": null,
            "grid_auto_flow": null,
            "grid_area": null,
            "grid_template_columns": null,
            "flex": null,
            "_model_name": "LayoutModel",
            "justify_items": null,
            "grid_row": null,
            "max_height": null,
            "align_content": null,
            "visibility": null,
            "align_self": null,
            "height": null,
            "min_height": null,
            "padding": null,
            "grid_auto_rows": null,
            "grid_gap": null,
            "max_width": null,
            "order": null,
            "_view_module_version": "1.2.0",
            "grid_template_areas": null,
            "object_position": null,
            "object_fit": null,
            "grid_auto_columns": null,
            "margin": null,
            "display": null,
            "left": null
          }
        },
        "4e2ebb8cfa38457ea793038db4efd9bc": {
          "model_module": "@jupyter-widgets/controls",
          "model_name": "DescriptionStyleModel",
          "state": {
            "_view_name": "StyleView",
            "_model_name": "DescriptionStyleModel",
            "description_width": "",
            "_view_module": "@jupyter-widgets/base",
            "_model_module_version": "1.5.0",
            "_view_count": null,
            "_view_module_version": "1.2.0",
            "_model_module": "@jupyter-widgets/controls"
          }
        },
        "3f646302c0fe41b9a71a2a2e9e54dcac": {
          "model_module": "@jupyter-widgets/base",
          "model_name": "LayoutModel",
          "state": {
            "_view_name": "LayoutView",
            "grid_template_rows": null,
            "right": null,
            "justify_content": null,
            "_view_module": "@jupyter-widgets/base",
            "overflow": null,
            "_model_module_version": "1.2.0",
            "_view_count": null,
            "flex_flow": null,
            "width": null,
            "min_width": null,
            "border": null,
            "align_items": null,
            "bottom": null,
            "_model_module": "@jupyter-widgets/base",
            "top": null,
            "grid_column": null,
            "overflow_y": null,
            "overflow_x": null,
            "grid_auto_flow": null,
            "grid_area": null,
            "grid_template_columns": null,
            "flex": null,
            "_model_name": "LayoutModel",
            "justify_items": null,
            "grid_row": null,
            "max_height": null,
            "align_content": null,
            "visibility": null,
            "align_self": null,
            "height": null,
            "min_height": null,
            "padding": null,
            "grid_auto_rows": null,
            "grid_gap": null,
            "max_width": null,
            "order": null,
            "_view_module_version": "1.2.0",
            "grid_template_areas": null,
            "object_position": null,
            "object_fit": null,
            "grid_auto_columns": null,
            "margin": null,
            "display": null,
            "left": null
          }
        },
        "92e5ccb62a5a4aa699e7a4f5ee5a46a1": {
          "model_module": "@jupyter-widgets/controls",
          "model_name": "HBoxModel",
          "state": {
            "_view_name": "HBoxView",
            "_dom_classes": [],
            "_model_name": "HBoxModel",
            "_view_module": "@jupyter-widgets/controls",
            "_model_module_version": "1.5.0",
            "_view_count": null,
            "_view_module_version": "1.5.0",
            "box_style": "",
            "layout": "IPY_MODEL_6e0751f090ac41c287b7a1e4d5cbb29a",
            "_model_module": "@jupyter-widgets/controls",
            "children": [
              "IPY_MODEL_27a3c8dda1d64a9996b493d2f2a95cb5",
              "IPY_MODEL_473d966b8fa340d79f6e899dde81f096"
            ]
          }
        },
        "6e0751f090ac41c287b7a1e4d5cbb29a": {
          "model_module": "@jupyter-widgets/base",
          "model_name": "LayoutModel",
          "state": {
            "_view_name": "LayoutView",
            "grid_template_rows": null,
            "right": null,
            "justify_content": null,
            "_view_module": "@jupyter-widgets/base",
            "overflow": null,
            "_model_module_version": "1.2.0",
            "_view_count": null,
            "flex_flow": null,
            "width": null,
            "min_width": null,
            "border": null,
            "align_items": null,
            "bottom": null,
            "_model_module": "@jupyter-widgets/base",
            "top": null,
            "grid_column": null,
            "overflow_y": null,
            "overflow_x": null,
            "grid_auto_flow": null,
            "grid_area": null,
            "grid_template_columns": null,
            "flex": null,
            "_model_name": "LayoutModel",
            "justify_items": null,
            "grid_row": null,
            "max_height": null,
            "align_content": null,
            "visibility": null,
            "align_self": null,
            "height": null,
            "min_height": null,
            "padding": null,
            "grid_auto_rows": null,
            "grid_gap": null,
            "max_width": null,
            "order": null,
            "_view_module_version": "1.2.0",
            "grid_template_areas": null,
            "object_position": null,
            "object_fit": null,
            "grid_auto_columns": null,
            "margin": null,
            "display": null,
            "left": null
          }
        },
        "27a3c8dda1d64a9996b493d2f2a95cb5": {
          "model_module": "@jupyter-widgets/controls",
          "model_name": "FloatProgressModel",
          "state": {
            "_view_name": "ProgressView",
            "style": "IPY_MODEL_6639ce31f71b4070a815b62f5b726666",
            "_dom_classes": [],
            "description": " 91%",
            "_model_name": "FloatProgressModel",
            "bar_style": "danger",
            "max": 550152,
            "_view_module": "@jupyter-widgets/controls",
            "_model_module_version": "1.5.0",
            "value": 498605,
            "_view_count": null,
            "_view_module_version": "1.5.0",
            "orientation": "horizontal",
            "min": 0,
            "description_tooltip": null,
            "_model_module": "@jupyter-widgets/controls",
            "layout": "IPY_MODEL_858e6b09dd1246719c7fdd576278dc31"
          }
        },
        "473d966b8fa340d79f6e899dde81f096": {
          "model_module": "@jupyter-widgets/controls",
          "model_name": "HTMLModel",
          "state": {
            "_view_name": "HTMLView",
            "style": "IPY_MODEL_6f2cd71021764af6b006a524a58a0798",
            "_dom_classes": [],
            "description": "",
            "_model_name": "HTMLModel",
            "placeholder": "​",
            "_view_module": "@jupyter-widgets/controls",
            "_model_module_version": "1.5.0",
            "value": " 498605/550152 [00:08&lt;21:45, 39.49 examples/s]",
            "_view_count": null,
            "_view_module_version": "1.5.0",
            "description_tooltip": null,
            "_model_module": "@jupyter-widgets/controls",
            "layout": "IPY_MODEL_b245c66600424237a3153c3f1a357f38"
          }
        },
        "6639ce31f71b4070a815b62f5b726666": {
          "model_module": "@jupyter-widgets/controls",
          "model_name": "ProgressStyleModel",
          "state": {
            "_view_name": "StyleView",
            "_model_name": "ProgressStyleModel",
            "description_width": "initial",
            "_view_module": "@jupyter-widgets/base",
            "_model_module_version": "1.5.0",
            "_view_count": null,
            "_view_module_version": "1.2.0",
            "bar_color": null,
            "_model_module": "@jupyter-widgets/controls"
          }
        },
        "858e6b09dd1246719c7fdd576278dc31": {
          "model_module": "@jupyter-widgets/base",
          "model_name": "LayoutModel",
          "state": {
            "_view_name": "LayoutView",
            "grid_template_rows": null,
            "right": null,
            "justify_content": null,
            "_view_module": "@jupyter-widgets/base",
            "overflow": null,
            "_model_module_version": "1.2.0",
            "_view_count": null,
            "flex_flow": null,
            "width": null,
            "min_width": null,
            "border": null,
            "align_items": null,
            "bottom": null,
            "_model_module": "@jupyter-widgets/base",
            "top": null,
            "grid_column": null,
            "overflow_y": null,
            "overflow_x": null,
            "grid_auto_flow": null,
            "grid_area": null,
            "grid_template_columns": null,
            "flex": null,
            "_model_name": "LayoutModel",
            "justify_items": null,
            "grid_row": null,
            "max_height": null,
            "align_content": null,
            "visibility": null,
            "align_self": null,
            "height": null,
            "min_height": null,
            "padding": null,
            "grid_auto_rows": null,
            "grid_gap": null,
            "max_width": null,
            "order": null,
            "_view_module_version": "1.2.0",
            "grid_template_areas": null,
            "object_position": null,
            "object_fit": null,
            "grid_auto_columns": null,
            "margin": null,
            "display": null,
            "left": null
          }
        },
        "6f2cd71021764af6b006a524a58a0798": {
          "model_module": "@jupyter-widgets/controls",
          "model_name": "DescriptionStyleModel",
          "state": {
            "_view_name": "StyleView",
            "_model_name": "DescriptionStyleModel",
            "description_width": "",
            "_view_module": "@jupyter-widgets/base",
            "_model_module_version": "1.5.0",
            "_view_count": null,
            "_view_module_version": "1.2.0",
            "_model_module": "@jupyter-widgets/controls"
          }
        },
        "b245c66600424237a3153c3f1a357f38": {
          "model_module": "@jupyter-widgets/base",
          "model_name": "LayoutModel",
          "state": {
            "_view_name": "LayoutView",
            "grid_template_rows": null,
            "right": null,
            "justify_content": null,
            "_view_module": "@jupyter-widgets/base",
            "overflow": null,
            "_model_module_version": "1.2.0",
            "_view_count": null,
            "flex_flow": null,
            "width": null,
            "min_width": null,
            "border": null,
            "align_items": null,
            "bottom": null,
            "_model_module": "@jupyter-widgets/base",
            "top": null,
            "grid_column": null,
            "overflow_y": null,
            "overflow_x": null,
            "grid_auto_flow": null,
            "grid_area": null,
            "grid_template_columns": null,
            "flex": null,
            "_model_name": "LayoutModel",
            "justify_items": null,
            "grid_row": null,
            "max_height": null,
            "align_content": null,
            "visibility": null,
            "align_self": null,
            "height": null,
            "min_height": null,
            "padding": null,
            "grid_auto_rows": null,
            "grid_gap": null,
            "max_width": null,
            "order": null,
            "_view_module_version": "1.2.0",
            "grid_template_areas": null,
            "object_position": null,
            "object_fit": null,
            "grid_auto_columns": null,
            "margin": null,
            "display": null,
            "left": null
          }
        }
      }
    }
  },
  "cells": [
    {
      "cell_type": "markdown",
      "metadata": {
        "id": "view-in-github",
        "colab_type": "text"
      },
      "source": [
        "<a href=\"https://colab.research.google.com/github/surajsy/ColabNotebooks/blob/master/SNLI.ipynb\" target=\"_parent\"><img src=\"https://colab.research.google.com/assets/colab-badge.svg\" alt=\"Open In Colab\"/></a>"
      ]
    },
    {
      "cell_type": "code",
      "metadata": {
        "id": "LTktTQP1m-jk",
        "colab_type": "code",
        "colab": {}
      },
      "source": [
        ""
      ],
      "execution_count": null,
      "outputs": []
    },
    {
      "cell_type": "code",
      "metadata": {
        "colab_type": "code",
        "id": "JFl9-z1yjRGB",
        "colab": {
          "base_uri": "https://localhost:8080/",
          "height": 340
        },
        "outputId": "2eaa07ed-dd62-45e7-a37c-729afa2ca3da"
      },
      "source": [
        "!pip install mitdeeplearning"
      ],
      "execution_count": null,
      "outputs": [
        {
          "output_type": "stream",
          "text": [
            "Collecting mitdeeplearning\n",
            "\u001b[?25l  Downloading https://files.pythonhosted.org/packages/8b/3b/b9174b68dc10832356d02a2d83a64b43a24f1762c172754407d22fc8f960/mitdeeplearning-0.1.2.tar.gz (2.1MB)\n",
            "\r\u001b[K     |▏                               | 10kB 27.5MB/s eta 0:00:01\r\u001b[K     |▎                               | 20kB 2.2MB/s eta 0:00:01\r\u001b[K     |▌                               | 30kB 2.8MB/s eta 0:00:01\r\u001b[K     |▋                               | 40kB 3.1MB/s eta 0:00:01\r\u001b[K     |▉                               | 51kB 2.5MB/s eta 0:00:01\r\u001b[K     |█                               | 61kB 2.8MB/s eta 0:00:01\r\u001b[K     |█                               | 71kB 3.1MB/s eta 0:00:01\r\u001b[K     |█▎                              | 81kB 3.5MB/s eta 0:00:01\r\u001b[K     |█▍                              | 92kB 3.6MB/s eta 0:00:01\r\u001b[K     |█▋                              | 102kB 3.5MB/s eta 0:00:01\r\u001b[K     |█▊                              | 112kB 3.5MB/s eta 0:00:01\r\u001b[K     |█▉                              | 122kB 3.5MB/s eta 0:00:01\r\u001b[K     |██                              | 133kB 3.5MB/s eta 0:00:01\r\u001b[K     |██▏                             | 143kB 3.5MB/s eta 0:00:01\r\u001b[K     |██▍                             | 153kB 3.5MB/s eta 0:00:01\r\u001b[K     |██▌                             | 163kB 3.5MB/s eta 0:00:01\r\u001b[K     |██▊                             | 174kB 3.5MB/s eta 0:00:01\r\u001b[K     |██▉                             | 184kB 3.5MB/s eta 0:00:01\r\u001b[K     |███                             | 194kB 3.5MB/s eta 0:00:01\r\u001b[K     |███▏                            | 204kB 3.5MB/s eta 0:00:01\r\u001b[K     |███▎                            | 215kB 3.5MB/s eta 0:00:01\r\u001b[K     |███▌                            | 225kB 3.5MB/s eta 0:00:01\r\u001b[K     |███▋                            | 235kB 3.5MB/s eta 0:00:01\r\u001b[K     |███▊                            | 245kB 3.5MB/s eta 0:00:01\r\u001b[K     |████                            | 256kB 3.5MB/s eta 0:00:01\r\u001b[K     |████                            | 266kB 3.5MB/s eta 0:00:01\r\u001b[K     |████▎                           | 276kB 3.5MB/s eta 0:00:01\r\u001b[K     |████▍                           | 286kB 3.5MB/s eta 0:00:01\r\u001b[K     |████▋                           | 296kB 3.5MB/s eta 0:00:01\r\u001b[K     |████▊                           | 307kB 3.5MB/s eta 0:00:01\r\u001b[K     |████▉                           | 317kB 3.5MB/s eta 0:00:01\r\u001b[K     |█████                           | 327kB 3.5MB/s eta 0:00:01\r\u001b[K     |█████▏                          | 337kB 3.5MB/s eta 0:00:01\r\u001b[K     |█████▍                          | 348kB 3.5MB/s eta 0:00:01\r\u001b[K     |█████▌                          | 358kB 3.5MB/s eta 0:00:01\r\u001b[K     |█████▋                          | 368kB 3.5MB/s eta 0:00:01\r\u001b[K     |█████▉                          | 378kB 3.5MB/s eta 0:00:01\r\u001b[K     |██████                          | 389kB 3.5MB/s eta 0:00:01\r\u001b[K     |██████▏                         | 399kB 3.5MB/s eta 0:00:01\r\u001b[K     |██████▎                         | 409kB 3.5MB/s eta 0:00:01\r\u001b[K     |██████▌                         | 419kB 3.5MB/s eta 0:00:01\r\u001b[K     |██████▋                         | 430kB 3.5MB/s eta 0:00:01\r\u001b[K     |██████▊                         | 440kB 3.5MB/s eta 0:00:01\r\u001b[K     |███████                         | 450kB 3.5MB/s eta 0:00:01\r\u001b[K     |███████                         | 460kB 3.5MB/s eta 0:00:01\r\u001b[K     |███████▎                        | 471kB 3.5MB/s eta 0:00:01\r\u001b[K     |███████▍                        | 481kB 3.5MB/s eta 0:00:01\r\u001b[K     |███████▌                        | 491kB 3.5MB/s eta 0:00:01\r\u001b[K     |███████▊                        | 501kB 3.5MB/s eta 0:00:01\r\u001b[K     |███████▉                        | 512kB 3.5MB/s eta 0:00:01\r\u001b[K     |████████                        | 522kB 3.5MB/s eta 0:00:01\r\u001b[K     |████████▏                       | 532kB 3.5MB/s eta 0:00:01\r\u001b[K     |████████▍                       | 542kB 3.5MB/s eta 0:00:01\r\u001b[K     |████████▌                       | 552kB 3.5MB/s eta 0:00:01\r\u001b[K     |████████▋                       | 563kB 3.5MB/s eta 0:00:01\r\u001b[K     |████████▉                       | 573kB 3.5MB/s eta 0:00:01\r\u001b[K     |█████████                       | 583kB 3.5MB/s eta 0:00:01\r\u001b[K     |█████████▏                      | 593kB 3.5MB/s eta 0:00:01\r\u001b[K     |█████████▎                      | 604kB 3.5MB/s eta 0:00:01\r\u001b[K     |█████████▍                      | 614kB 3.5MB/s eta 0:00:01\r\u001b[K     |█████████▋                      | 624kB 3.5MB/s eta 0:00:01\r\u001b[K     |█████████▊                      | 634kB 3.5MB/s eta 0:00:01\r\u001b[K     |██████████                      | 645kB 3.5MB/s eta 0:00:01\r\u001b[K     |██████████                      | 655kB 3.5MB/s eta 0:00:01\r\u001b[K     |██████████▎                     | 665kB 3.5MB/s eta 0:00:01\r\u001b[K     |██████████▍                     | 675kB 3.5MB/s eta 0:00:01\r\u001b[K     |██████████▌                     | 686kB 3.5MB/s eta 0:00:01\r\u001b[K     |██████████▊                     | 696kB 3.5MB/s eta 0:00:01\r\u001b[K     |██████████▉                     | 706kB 3.5MB/s eta 0:00:01\r\u001b[K     |███████████                     | 716kB 3.5MB/s eta 0:00:01\r\u001b[K     |███████████▏                    | 727kB 3.5MB/s eta 0:00:01\r\u001b[K     |███████████▎                    | 737kB 3.5MB/s eta 0:00:01\r\u001b[K     |███████████▌                    | 747kB 3.5MB/s eta 0:00:01\r\u001b[K     |███████████▋                    | 757kB 3.5MB/s eta 0:00:01\r\u001b[K     |███████████▉                    | 768kB 3.5MB/s eta 0:00:01\r\u001b[K     |████████████                    | 778kB 3.5MB/s eta 0:00:01\r\u001b[K     |████████████                    | 788kB 3.5MB/s eta 0:00:01\r\u001b[K     |████████████▎                   | 798kB 3.5MB/s eta 0:00:01\r\u001b[K     |████████████▍                   | 808kB 3.5MB/s eta 0:00:01\r\u001b[K     |████████████▋                   | 819kB 3.5MB/s eta 0:00:01\r\u001b[K     |████████████▊                   | 829kB 3.5MB/s eta 0:00:01\r\u001b[K     |█████████████                   | 839kB 3.5MB/s eta 0:00:01\r\u001b[K     |█████████████                   | 849kB 3.5MB/s eta 0:00:01\r\u001b[K     |█████████████▏                  | 860kB 3.5MB/s eta 0:00:01\r\u001b[K     |█████████████▍                  | 870kB 3.5MB/s eta 0:00:01\r\u001b[K     |█████████████▌                  | 880kB 3.5MB/s eta 0:00:01\r\u001b[K     |█████████████▊                  | 890kB 3.5MB/s eta 0:00:01\r\u001b[K     |█████████████▉                  | 901kB 3.5MB/s eta 0:00:01\r\u001b[K     |██████████████                  | 911kB 3.5MB/s eta 0:00:01\r\u001b[K     |██████████████▏                 | 921kB 3.5MB/s eta 0:00:01\r\u001b[K     |██████████████▎                 | 931kB 3.5MB/s eta 0:00:01\r\u001b[K     |██████████████▌                 | 942kB 3.5MB/s eta 0:00:01\r\u001b[K     |██████████████▋                 | 952kB 3.5MB/s eta 0:00:01\r\u001b[K     |██████████████▉                 | 962kB 3.5MB/s eta 0:00:01\r\u001b[K     |███████████████                 | 972kB 3.5MB/s eta 0:00:01\r\u001b[K     |███████████████                 | 983kB 3.5MB/s eta 0:00:01\r\u001b[K     |███████████████▎                | 993kB 3.5MB/s eta 0:00:01\r\u001b[K     |███████████████▍                | 1.0MB 3.5MB/s eta 0:00:01\r\u001b[K     |███████████████▋                | 1.0MB 3.5MB/s eta 0:00:01\r\u001b[K     |███████████████▊                | 1.0MB 3.5MB/s eta 0:00:01\r\u001b[K     |███████████████▉                | 1.0MB 3.5MB/s eta 0:00:01\r\u001b[K     |████████████████                | 1.0MB 3.5MB/s eta 0:00:01\r\u001b[K     |████████████████▏               | 1.1MB 3.5MB/s eta 0:00:01\r\u001b[K     |████████████████▍               | 1.1MB 3.5MB/s eta 0:00:01\r\u001b[K     |████████████████▌               | 1.1MB 3.5MB/s eta 0:00:01\r\u001b[K     |████████████████▊               | 1.1MB 3.5MB/s eta 0:00:01\r\u001b[K     |████████████████▉               | 1.1MB 3.5MB/s eta 0:00:01\r\u001b[K     |█████████████████               | 1.1MB 3.5MB/s eta 0:00:01\r\u001b[K     |█████████████████▏              | 1.1MB 3.5MB/s eta 0:00:01\r\u001b[K     |█████████████████▎              | 1.1MB 3.5MB/s eta 0:00:01\r\u001b[K     |█████████████████▌              | 1.1MB 3.5MB/s eta 0:00:01\r\u001b[K     |█████████████████▋              | 1.1MB 3.5MB/s eta 0:00:01\r\u001b[K     |█████████████████▊              | 1.2MB 3.5MB/s eta 0:00:01\r\u001b[K     |██████████████████              | 1.2MB 3.5MB/s eta 0:00:01\r\u001b[K     |██████████████████              | 1.2MB 3.5MB/s eta 0:00:01\r\u001b[K     |██████████████████▎             | 1.2MB 3.5MB/s eta 0:00:01\r\u001b[K     |██████████████████▍             | 1.2MB 3.5MB/s eta 0:00:01\r\u001b[K     |██████████████████▋             | 1.2MB 3.5MB/s eta 0:00:01\r\u001b[K     |██████████████████▊             | 1.2MB 3.5MB/s eta 0:00:01\r\u001b[K     |██████████████████▉             | 1.2MB 3.5MB/s eta 0:00:01\r\u001b[K     |███████████████████             | 1.2MB 3.5MB/s eta 0:00:01\r\u001b[K     |███████████████████▏            | 1.2MB 3.5MB/s eta 0:00:01\r\u001b[K     |███████████████████▍            | 1.3MB 3.5MB/s eta 0:00:01\r\u001b[K     |███████████████████▌            | 1.3MB 3.5MB/s eta 0:00:01\r\u001b[K     |███████████████████▋            | 1.3MB 3.5MB/s eta 0:00:01\r\u001b[K     |███████████████████▉            | 1.3MB 3.5MB/s eta 0:00:01\r\u001b[K     |████████████████████            | 1.3MB 3.5MB/s eta 0:00:01\r\u001b[K     |████████████████████▏           | 1.3MB 3.5MB/s eta 0:00:01\r\u001b[K     |████████████████████▎           | 1.3MB 3.5MB/s eta 0:00:01\r\u001b[K     |████████████████████▌           | 1.3MB 3.5MB/s eta 0:00:01\r\u001b[K     |████████████████████▋           | 1.3MB 3.5MB/s eta 0:00:01\r\u001b[K     |████████████████████▊           | 1.4MB 3.5MB/s eta 0:00:01\r\u001b[K     |█████████████████████           | 1.4MB 3.5MB/s eta 0:00:01\r\u001b[K     |█████████████████████           | 1.4MB 3.5MB/s eta 0:00:01\r\u001b[K     |█████████████████████▎          | 1.4MB 3.5MB/s eta 0:00:01\r\u001b[K     |█████████████████████▍          | 1.4MB 3.5MB/s eta 0:00:01\r\u001b[K     |█████████████████████▌          | 1.4MB 3.5MB/s eta 0:00:01\r\u001b[K     |█████████████████████▊          | 1.4MB 3.5MB/s eta 0:00:01\r\u001b[K     |█████████████████████▉          | 1.4MB 3.5MB/s eta 0:00:01\r\u001b[K     |██████████████████████          | 1.4MB 3.5MB/s eta 0:00:01\r\u001b[K     |██████████████████████▏         | 1.4MB 3.5MB/s eta 0:00:01\r\u001b[K     |██████████████████████▍         | 1.5MB 3.5MB/s eta 0:00:01\r\u001b[K     |██████████████████████▌         | 1.5MB 3.5MB/s eta 0:00:01\r\u001b[K     |██████████████████████▋         | 1.5MB 3.5MB/s eta 0:00:01\r\u001b[K     |██████████████████████▉         | 1.5MB 3.5MB/s eta 0:00:01\r\u001b[K     |███████████████████████         | 1.5MB 3.5MB/s eta 0:00:01\r\u001b[K     |███████████████████████▏        | 1.5MB 3.5MB/s eta 0:00:01\r\u001b[K     |███████████████████████▎        | 1.5MB 3.5MB/s eta 0:00:01\r\u001b[K     |███████████████████████▍        | 1.5MB 3.5MB/s eta 0:00:01\r\u001b[K     |███████████████████████▋        | 1.5MB 3.5MB/s eta 0:00:01\r\u001b[K     |███████████████████████▊        | 1.5MB 3.5MB/s eta 0:00:01\r\u001b[K     |████████████████████████        | 1.6MB 3.5MB/s eta 0:00:01\r\u001b[K     |████████████████████████        | 1.6MB 3.5MB/s eta 0:00:01\r\u001b[K     |████████████████████████▏       | 1.6MB 3.5MB/s eta 0:00:01\r\u001b[K     |████████████████████████▍       | 1.6MB 3.5MB/s eta 0:00:01\r\u001b[K     |████████████████████████▌       | 1.6MB 3.5MB/s eta 0:00:01\r\u001b[K     |████████████████████████▊       | 1.6MB 3.5MB/s eta 0:00:01\r\u001b[K     |████████████████████████▉       | 1.6MB 3.5MB/s eta 0:00:01\r\u001b[K     |█████████████████████████       | 1.6MB 3.5MB/s eta 0:00:01\r\u001b[K     |█████████████████████████▏      | 1.6MB 3.5MB/s eta 0:00:01\r\u001b[K     |█████████████████████████▎      | 1.6MB 3.5MB/s eta 0:00:01\r\u001b[K     |█████████████████████████▌      | 1.7MB 3.5MB/s eta 0:00:01\r\u001b[K     |█████████████████████████▋      | 1.7MB 3.5MB/s eta 0:00:01\r\u001b[K     |█████████████████████████▉      | 1.7MB 3.5MB/s eta 0:00:01\r\u001b[K     |██████████████████████████      | 1.7MB 3.5MB/s eta 0:00:01\r\u001b[K     |██████████████████████████      | 1.7MB 3.5MB/s eta 0:00:01\r\u001b[K     |██████████████████████████▎     | 1.7MB 3.5MB/s eta 0:00:01\r\u001b[K     |██████████████████████████▍     | 1.7MB 3.5MB/s eta 0:00:01\r\u001b[K     |██████████████████████████▋     | 1.7MB 3.5MB/s eta 0:00:01\r\u001b[K     |██████████████████████████▊     | 1.7MB 3.5MB/s eta 0:00:01\r\u001b[K     |███████████████████████████     | 1.8MB 3.5MB/s eta 0:00:01\r\u001b[K     |███████████████████████████     | 1.8MB 3.5MB/s eta 0:00:01\r\u001b[K     |███████████████████████████▏    | 1.8MB 3.5MB/s eta 0:00:01\r\u001b[K     |███████████████████████████▍    | 1.8MB 3.5MB/s eta 0:00:01\r\u001b[K     |███████████████████████████▌    | 1.8MB 3.5MB/s eta 0:00:01\r\u001b[K     |███████████████████████████▊    | 1.8MB 3.5MB/s eta 0:00:01\r\u001b[K     |███████████████████████████▉    | 1.8MB 3.5MB/s eta 0:00:01\r\u001b[K     |████████████████████████████    | 1.8MB 3.5MB/s eta 0:00:01\r\u001b[K     |████████████████████████████▏   | 1.8MB 3.5MB/s eta 0:00:01\r\u001b[K     |████████████████████████████▎   | 1.8MB 3.5MB/s eta 0:00:01\r\u001b[K     |████████████████████████████▌   | 1.9MB 3.5MB/s eta 0:00:01\r\u001b[K     |████████████████████████████▋   | 1.9MB 3.5MB/s eta 0:00:01\r\u001b[K     |████████████████████████████▉   | 1.9MB 3.5MB/s eta 0:00:01\r\u001b[K     |█████████████████████████████   | 1.9MB 3.5MB/s eta 0:00:01\r\u001b[K     |█████████████████████████████   | 1.9MB 3.5MB/s eta 0:00:01\r\u001b[K     |█████████████████████████████▎  | 1.9MB 3.5MB/s eta 0:00:01\r\u001b[K     |█████████████████████████████▍  | 1.9MB 3.5MB/s eta 0:00:01\r\u001b[K     |█████████████████████████████▋  | 1.9MB 3.5MB/s eta 0:00:01\r\u001b[K     |█████████████████████████████▊  | 1.9MB 3.5MB/s eta 0:00:01\r\u001b[K     |█████████████████████████████▉  | 1.9MB 3.5MB/s eta 0:00:01\r\u001b[K     |██████████████████████████████  | 2.0MB 3.5MB/s eta 0:00:01\r\u001b[K     |██████████████████████████████▏ | 2.0MB 3.5MB/s eta 0:00:01\r\u001b[K     |██████████████████████████████▍ | 2.0MB 3.5MB/s eta 0:00:01\r\u001b[K     |██████████████████████████████▌ | 2.0MB 3.5MB/s eta 0:00:01\r\u001b[K     |██████████████████████████████▊ | 2.0MB 3.5MB/s eta 0:00:01\r\u001b[K     |██████████████████████████████▉ | 2.0MB 3.5MB/s eta 0:00:01\r\u001b[K     |███████████████████████████████ | 2.0MB 3.5MB/s eta 0:00:01\r\u001b[K     |███████████████████████████████▏| 2.0MB 3.5MB/s eta 0:00:01\r\u001b[K     |███████████████████████████████▎| 2.0MB 3.5MB/s eta 0:00:01\r\u001b[K     |███████████████████████████████▌| 2.0MB 3.5MB/s eta 0:00:01\r\u001b[K     |███████████████████████████████▋| 2.1MB 3.5MB/s eta 0:00:01\r\u001b[K     |███████████████████████████████▊| 2.1MB 3.5MB/s eta 0:00:01\r\u001b[K     |████████████████████████████████| 2.1MB 3.5MB/s eta 0:00:01\r\u001b[K     |████████████████████████████████| 2.1MB 3.5MB/s \n",
            "\u001b[?25hRequirement already satisfied: numpy in /usr/local/lib/python3.6/dist-packages (from mitdeeplearning) (1.18.4)\n",
            "Requirement already satisfied: regex in /usr/local/lib/python3.6/dist-packages (from mitdeeplearning) (2019.12.20)\n",
            "Requirement already satisfied: tqdm in /usr/local/lib/python3.6/dist-packages (from mitdeeplearning) (4.41.1)\n",
            "Requirement already satisfied: gym in /usr/local/lib/python3.6/dist-packages (from mitdeeplearning) (0.17.1)\n",
            "Requirement already satisfied: pyglet<=1.5.0,>=1.4.0 in /usr/local/lib/python3.6/dist-packages (from gym->mitdeeplearning) (1.5.0)\n",
            "Requirement already satisfied: cloudpickle<1.4.0,>=1.2.0 in /usr/local/lib/python3.6/dist-packages (from gym->mitdeeplearning) (1.3.0)\n",
            "Requirement already satisfied: scipy in /usr/local/lib/python3.6/dist-packages (from gym->mitdeeplearning) (1.4.1)\n",
            "Requirement already satisfied: six in /usr/local/lib/python3.6/dist-packages (from gym->mitdeeplearning) (1.12.0)\n",
            "Requirement already satisfied: future in /usr/local/lib/python3.6/dist-packages (from pyglet<=1.5.0,>=1.4.0->gym->mitdeeplearning) (0.16.0)\n",
            "Building wheels for collected packages: mitdeeplearning\n",
            "  Building wheel for mitdeeplearning (setup.py) ... \u001b[?25l\u001b[?25hdone\n",
            "  Created wheel for mitdeeplearning: filename=mitdeeplearning-0.1.2-cp36-none-any.whl size=2114586 sha256=a1f40bf9f70b337981c373974a381f9013d5e84f84ba8ae1733198e212bc6f07\n",
            "  Stored in directory: /root/.cache/pip/wheels/27/e1/73/5f01c787621d8a3c857f59876c79e304b9b64db9ff5bd61b74\n",
            "Successfully built mitdeeplearning\n",
            "Installing collected packages: mitdeeplearning\n",
            "Successfully installed mitdeeplearning-0.1.2\n"
          ],
          "name": "stdout"
        }
      ]
    },
    {
      "cell_type": "code",
      "metadata": {
        "id": "6bP6hPn3jR-P",
        "colab_type": "code",
        "colab": {
          "base_uri": "https://localhost:8080/",
          "height": 34
        },
        "outputId": "fe82c6d6-8b92-4759-dc39-590776b0eb27"
      },
      "source": [
        "%tensorflow_version 2.x\n",
        "import tensorflow as tf\n",
        "import tensorflow_datasets as tfds\n",
        "from keras.preprocessing.text import Tokenizer\n",
        "from keras.preprocessing.sequence import pad_sequences\n",
        "\n",
        "import numpy as np\n",
        "import os\n",
        "import time\n",
        "import functools\n",
        "from IPython import display as ipythondisplay\n",
        "from tqdm import tqdm\n",
        "\n",
        "import mitdeeplearning as mdl\n",
        "\n",
        "assert len(tf.config.list_physical_devices('GPU')) > 0"
      ],
      "execution_count": null,
      "outputs": [
        {
          "output_type": "stream",
          "text": [
            "Using TensorFlow backend.\n"
          ],
          "name": "stderr"
        }
      ]
    },
    {
      "cell_type": "code",
      "metadata": {
        "id": "OxTXIIRvgCZn",
        "colab_type": "code",
        "colab": {}
      },
      "source": [
        "# Saved in the d2l package for later use\n",
        "def read_snli():\n",
        "  snli_data = tfds.load('snli',download=True)\n",
        "  snli_train = snli_data['train']\n",
        "  snli_test = snli_data['test']\n",
        "  snli_validation = snli_data['validation']\n",
        "  return snli_train, snli_validation, snli_test\n",
        "\n",
        "def preprocess_snli(dataset, tokenizer=None):\n",
        "  dataset = list(dataset.as_numpy_iterator())\n",
        "  premise = [d['premise'].decode('utf-8') for d in dataset if d['label']>=0]\n",
        "  hypothesis = [d['hypothesis'].decode('utf-8') for d in dataset if d['label']>=0]\n",
        "  label = np.array([d['label'] for d in dataset if d['label']>=0])\n",
        "\n",
        "  if(tokenizer == None):\n",
        "    tokenizer = Tokenizer(num_words=20000)\n",
        "    tokenizer.fit_on_texts(premise + hypothesis)\n",
        "    print('success')\n",
        "  \n",
        "  premise_seq = pad_sequences(tokenizer.texts_to_sequences(premise),maxlen=50)\n",
        "  hypothesis_seq = pad_sequences(tokenizer.texts_to_sequences(hypothesis),maxlen=50)\n",
        "  if(tokenizer != None):\n",
        "    return premise_seq, hypothesis_seq, label, tokenizer\n",
        "  else:\n",
        "    return premise_seq, hypothesis_seq, label"
      ],
      "execution_count": null,
      "outputs": []
    },
    {
      "cell_type": "code",
      "metadata": {
        "id": "wbtmQEgZgXAx",
        "colab_type": "code",
        "colab": {
          "base_uri": "https://localhost:8080/",
          "height": 450,
          "referenced_widgets": [
            "21f8df839ed64007a32ecb908fc427f8",
            "cde656642bef4629bf15fac0525a9588",
            "e6b485c5b6ad47e78c729c379889fd67",
            "9b8f1bfefb9043d79a7801a1acf38d3d",
            "def4f302fde8474ebc6d545cead484f2",
            "11a4c288bd9f4386913e7f8bb0da6d23",
            "af7a9ab5b0054944b97e9cab4732836d",
            "d49b8dbb27604a55816830e8642f3277",
            "bfb7b460640646d5aed52c579cb62553",
            "e163464be8dc4bf7a9beb406aef1a5e9",
            "7d9f0ea3e55b49028aba1d89dd3bbe9a",
            "071391b7e80e4355bee3a61b81a3428e",
            "41c04aef7b5940809fe9a947976330be",
            "a4642e3389bb4541a829412ebde20c2d",
            "6a30b1a0312445b5a76dd908d691c986",
            "b954418e438a426884ad5ffbc525081c",
            "48892aaf487b4b4bb0a9bd8dd076b23c",
            "f7eeb83911b54aa897715b3e71687ad8",
            "5a93d2bc45174107a1a58b5dbae3ecd6",
            "670d05558bd540ff8a4bfdc03733666f",
            "1050d3909a124312a96e1d32db7b518d",
            "83f28d5f23bd45c5bd4da9c4d19ca829",
            "6496ffcb3e9946d0ad3ba77c18e3e037",
            "faea93ca2b324c4a9438a88ea277de69",
            "b963a4a824d948899f708ad5758190b7",
            "93c62b90e8b24a2692644b43e1427633",
            "26edf59dce0c49238172c19958dbe1c5",
            "b603520fb80c4760b834122372fd1093",
            "fbb363ce9c114f39b41522f16cfee64e",
            "e0a181a3c819407485998d98daf32070",
            "7f7b69c712cf486f974d9765b53a46bf",
            "12fbf24393a24e50ad7c72581a98ae6f",
            "def51fbd5f554b2788226219fc5e2c39",
            "fb80e3a8c9c24f28aaca8ed95b911ecc",
            "b7024f861e91481c88fa1c08e81c0c3d",
            "56d9ba82172d4ffc99b0540e691c88e8",
            "8b439135ea5943b0bcdce4a9829773ae",
            "9087397da281461daa3880b20ede628f",
            "878941a9533e46a2ac07a5241874e960",
            "9fa50b5e0f994bbe8b4c04bd85cd0ed8",
            "6efdd16146b2476a868afbbf04417c64",
            "010cdd6103b3498db144f02d0a11b4c7",
            "2b484b5be6294591b6b9379beaeba318",
            "50bd4d6921474d0bbd2a58a080a2b8a7",
            "862173683b0f4a1cbd69028d61385382",
            "139c24cd30eb4e32a6dc9a762a5fbe1c",
            "9c7691c6b6f542dcaf0e29af40dac720",
            "ff1ccadc60de484cb2c05fc7ea455a2c",
            "0ba360addaec4e7f9da3ab280b30ea78",
            "c27b311175724feeaaeec84eae2c49f1",
            "b1d1d4366fdf481ea616b2822a252894",
            "f5c34ae786a5446cb4da705c27076b29",
            "e483b2f93c754631adfcc2413298e6fa",
            "a3e10b830ff345e394a9ac65443f4000",
            "6deb90b47ded4026980be1aa2b1e86d2",
            "2034a399dfcc4654bfbe4bda775ecbbf",
            "b44d6f896ca44222beeb3dc10131ac85",
            "68ce05cf6bb34c3282e146afb6b1af29",
            "f2964f094407413dbc4f26872daf91ea",
            "944b5aa708214e27bf7a70ae51200320",
            "f9bf630ddaea432c92c357e553cd9cc6",
            "7acc6c50d1024e338095b001e74f9ba8",
            "4e2ebb8cfa38457ea793038db4efd9bc",
            "3f646302c0fe41b9a71a2a2e9e54dcac",
            "92e5ccb62a5a4aa699e7a4f5ee5a46a1",
            "6e0751f090ac41c287b7a1e4d5cbb29a",
            "27a3c8dda1d64a9996b493d2f2a95cb5",
            "473d966b8fa340d79f6e899dde81f096",
            "6639ce31f71b4070a815b62f5b726666",
            "858e6b09dd1246719c7fdd576278dc31",
            "6f2cd71021764af6b006a524a58a0798",
            "b245c66600424237a3153c3f1a357f38"
          ]
        },
        "outputId": "6dceb91a-4f1b-43aa-c8a8-1ea121545af2"
      },
      "source": [
        "train, val, test = read_snli()"
      ],
      "execution_count": null,
      "outputs": [
        {
          "output_type": "stream",
          "text": [
            "\u001b[1mDownloading and preparing dataset snli/plain_text/1.0.0 (download: 90.17 MiB, generated: Unknown size, total: 90.17 MiB) to /root/tensorflow_datasets/snli/plain_text/1.0.0...\u001b[0m\n"
          ],
          "name": "stdout"
        },
        {
          "output_type": "display_data",
          "data": {
            "application/vnd.jupyter.widget-view+json": {
              "model_id": "21f8df839ed64007a32ecb908fc427f8",
              "version_minor": 0,
              "version_major": 2
            },
            "text/plain": [
              "HBox(children=(FloatProgress(value=1.0, bar_style='info', description='Dl Completed...', max=1.0, style=Progre…"
            ]
          },
          "metadata": {
            "tags": []
          }
        },
        {
          "output_type": "display_data",
          "data": {
            "application/vnd.jupyter.widget-view+json": {
              "model_id": "bfb7b460640646d5aed52c579cb62553",
              "version_minor": 0,
              "version_major": 2
            },
            "text/plain": [
              "HBox(children=(FloatProgress(value=1.0, bar_style='info', description='Dl Size...', max=1.0, style=ProgressSty…"
            ]
          },
          "metadata": {
            "tags": []
          }
        },
        {
          "output_type": "display_data",
          "data": {
            "application/vnd.jupyter.widget-view+json": {
              "model_id": "48892aaf487b4b4bb0a9bd8dd076b23c",
              "version_minor": 0,
              "version_major": 2
            },
            "text/plain": [
              "HBox(children=(FloatProgress(value=1.0, bar_style='info', description='Extraction completed...', max=1.0, styl…"
            ]
          },
          "metadata": {
            "tags": []
          }
        },
        {
          "output_type": "stream",
          "text": [
            "/usr/local/lib/python3.6/dist-packages/urllib3/connectionpool.py:847: InsecureRequestWarning: Unverified HTTPS request is being made. Adding certificate verification is strongly advised. See: https://urllib3.readthedocs.io/en/latest/advanced-usage.html#ssl-warnings\n",
            "  InsecureRequestWarning)\n"
          ],
          "name": "stderr"
        },
        {
          "output_type": "stream",
          "text": [
            "\n",
            "\n",
            "\n",
            "\n",
            "\n",
            "\n"
          ],
          "name": "stdout"
        },
        {
          "output_type": "display_data",
          "data": {
            "application/vnd.jupyter.widget-view+json": {
              "model_id": "b963a4a824d948899f708ad5758190b7",
              "version_minor": 0,
              "version_major": 2
            },
            "text/plain": [
              "HBox(children=(FloatProgress(value=1.0, bar_style='info', max=1.0), HTML(value='')))"
            ]
          },
          "metadata": {
            "tags": []
          }
        },
        {
          "output_type": "stream",
          "text": [
            "\rShuffling and writing examples to /root/tensorflow_datasets/snli/plain_text/1.0.0.incompleteXV1KRL/snli-test.tfrecord\n"
          ],
          "name": "stdout"
        },
        {
          "output_type": "display_data",
          "data": {
            "application/vnd.jupyter.widget-view+json": {
              "model_id": "def51fbd5f554b2788226219fc5e2c39",
              "version_minor": 0,
              "version_major": 2
            },
            "text/plain": [
              "HBox(children=(FloatProgress(value=0.0, max=10000.0), HTML(value='')))"
            ]
          },
          "metadata": {
            "tags": []
          }
        },
        {
          "output_type": "stream",
          "text": [
            "\r"
          ],
          "name": "stdout"
        },
        {
          "output_type": "display_data",
          "data": {
            "application/vnd.jupyter.widget-view+json": {
              "model_id": "6efdd16146b2476a868afbbf04417c64",
              "version_minor": 0,
              "version_major": 2
            },
            "text/plain": [
              "HBox(children=(FloatProgress(value=1.0, bar_style='info', max=1.0), HTML(value='')))"
            ]
          },
          "metadata": {
            "tags": []
          }
        },
        {
          "output_type": "stream",
          "text": [
            "\rShuffling and writing examples to /root/tensorflow_datasets/snli/plain_text/1.0.0.incompleteXV1KRL/snli-validation.tfrecord\n"
          ],
          "name": "stdout"
        },
        {
          "output_type": "display_data",
          "data": {
            "application/vnd.jupyter.widget-view+json": {
              "model_id": "0ba360addaec4e7f9da3ab280b30ea78",
              "version_minor": 0,
              "version_major": 2
            },
            "text/plain": [
              "HBox(children=(FloatProgress(value=0.0, max=10000.0), HTML(value='')))"
            ]
          },
          "metadata": {
            "tags": []
          }
        },
        {
          "output_type": "stream",
          "text": [
            "\r"
          ],
          "name": "stdout"
        },
        {
          "output_type": "display_data",
          "data": {
            "application/vnd.jupyter.widget-view+json": {
              "model_id": "b44d6f896ca44222beeb3dc10131ac85",
              "version_minor": 0,
              "version_major": 2
            },
            "text/plain": [
              "HBox(children=(FloatProgress(value=1.0, bar_style='info', max=1.0), HTML(value='')))"
            ]
          },
          "metadata": {
            "tags": []
          }
        },
        {
          "output_type": "stream",
          "text": [
            "\rShuffling and writing examples to /root/tensorflow_datasets/snli/plain_text/1.0.0.incompleteXV1KRL/snli-train.tfrecord\n"
          ],
          "name": "stdout"
        },
        {
          "output_type": "display_data",
          "data": {
            "application/vnd.jupyter.widget-view+json": {
              "model_id": "92e5ccb62a5a4aa699e7a4f5ee5a46a1",
              "version_minor": 0,
              "version_major": 2
            },
            "text/plain": [
              "HBox(children=(FloatProgress(value=0.0, max=550152.0), HTML(value='')))"
            ]
          },
          "metadata": {
            "tags": []
          }
        },
        {
          "output_type": "stream",
          "text": [
            "\u001b[1mDataset snli downloaded and prepared to /root/tensorflow_datasets/snli/plain_text/1.0.0. Subsequent calls will reuse this data.\u001b[0m\n",
            "\r"
          ],
          "name": "stdout"
        }
      ]
    },
    {
      "cell_type": "code",
      "metadata": {
        "id": "NnNQRGMW2Iar",
        "colab_type": "code",
        "colab": {
          "base_uri": "https://localhost:8080/",
          "height": 34
        },
        "outputId": "f6d28983-72e4-4a22-e715-d2c3d5ce9653"
      },
      "source": [
        "premise, hypothesis, label, tokenizer = preprocess_snli(train)"
      ],
      "execution_count": null,
      "outputs": [
        {
          "output_type": "stream",
          "text": [
            "success\n"
          ],
          "name": "stdout"
        }
      ]
    },
    {
      "cell_type": "code",
      "metadata": {
        "id": "Uj8RwP7obiDp",
        "colab_type": "code",
        "colab": {
          "base_uri": "https://localhost:8080/",
          "height": 34
        },
        "outputId": "13f85664-2e95-4fa8-a68b-e6bce632c1b4"
      },
      "source": [
        "np.min(label)"
      ],
      "execution_count": null,
      "outputs": [
        {
          "output_type": "execute_result",
          "data": {
            "text/plain": [
              "0"
            ]
          },
          "metadata": {
            "tags": []
          },
          "execution_count": 6
        }
      ]
    },
    {
      "cell_type": "code",
      "metadata": {
        "id": "Vb9P6s9HgZ3r",
        "colab_type": "code",
        "colab": {}
      },
      "source": [
        "def get_batch(premise,hypothesis,label,batch_size):\n",
        "  idx = np.random.choice(len(premise),batch_size)\n",
        "  premise_batch = premise[idx]\n",
        "  hypothesis_batch = hypothesis[idx]\n",
        "  label_batch = np.array(label)[idx]\n",
        "  return premise_batch, hypothesis_batch, label_batch\n",
        "\n",
        "p, h, l = get_batch(premise,hypothesis,label,128)"
      ],
      "execution_count": null,
      "outputs": []
    },
    {
      "cell_type": "code",
      "metadata": {
        "id": "cZ6bVxuAvvC-",
        "colab_type": "code",
        "colab": {}
      },
      "source": [
        "def LSTM(rnn_units): \n",
        "  return tf.keras.layers.LSTM(\n",
        "    rnn_units, \n",
        "    return_sequences=True, \n",
        "    recurrent_initializer='glorot_normal',\n",
        "    recurrent_activation='sigmoid',\n",
        "    stateful=False\n",
        "  )"
      ],
      "execution_count": null,
      "outputs": []
    },
    {
      "cell_type": "code",
      "metadata": {
        "id": "maXvuTkvg7yx",
        "colab_type": "code",
        "colab": {}
      },
      "source": [
        "def build_model(vocab_size, embedding_dim, rnn_units, seq_length, batch_size):\n",
        "  lstm1 = tf.keras.layers.Bidirectional(LSTM(rnn_units))\n",
        "  lstm2 = tf.keras.layers.Bidirectional(LSTM(rnn_units))\n",
        "  lstm3 = tf.keras.layers.Bidirectional(LSTM(rnn_units))\n",
        "  embed = tf.keras.layers.Embedding(vocab_size, embedding_dim)\n",
        "  dense300 = tf.keras.layers.Dense(300,activation='tanh')\n",
        "  dense1 = tf.keras.layers.Dense(1024,activation='relu')\n",
        "  dense2 = tf.keras.layers.Dense(1024,activation='relu')\n",
        "  dense3 = tf.keras.layers.Dense(1024,activation='relu')\n",
        "\n",
        "  dropout1 = tf.keras.layers.Dropout(0.2)\n",
        "  dropout2 = tf.keras.layers.Dropout(0.2)\n",
        "  dropout3 = tf.keras.layers.Dropout(0.2)\n",
        "\n",
        "  premise = tf.keras.layers.Input(shape=(seq_length,),batch_size=batch_size,name='premise')\n",
        "  emb_prem = embed(premise)\n",
        "  proj_prem = dense300(emb_prem)\n",
        "  lstm_prem = lstm1(proj_prem)\n",
        "  lstm_prem = lstm2(lstm_prem)\n",
        "  lstm_prem = lstm3(lstm_prem)\n",
        "\n",
        "  hypothesis = tf.keras.layers.Input(shape=(seq_length,),batch_size=batch_size,name='hypothesis')\n",
        "  emb_hypo = embed(hypothesis)\n",
        "  proj_hypo = dense300(emb_hypo)\n",
        "  lstm_hypo = lstm1(proj_hypo)\n",
        "  lstm_hypo = lstm2(lstm_hypo)\n",
        "  lstm_hypo = lstm3(lstm_hypo)\n",
        "\n",
        "  lstm_prem = tf.math.reduce_sum(lstm_prem,axis=1)\n",
        "  lstm_hypo = tf.math.reduce_sum(lstm_hypo,axis=1)\n",
        "\n",
        "  out = tf.keras.layers.concatenate([lstm_prem,lstm_hypo],axis=1)\n",
        "  out = dropout1(dense1(out))\n",
        "  out = dropout2(dense2(out))\n",
        "  out = dropout3(dense3(out))\n",
        "  out = tf.keras.layers.Dense(3)(out)\n",
        "\n",
        "  model = tf.keras.Model(inputs=[premise,hypothesis],outputs=[out])\n",
        "  return model"
      ],
      "execution_count": null,
      "outputs": []
    },
    {
      "cell_type": "code",
      "metadata": {
        "id": "_vyS2LBa77g_",
        "colab_type": "code",
        "colab": {}
      },
      "source": [
        "def compute_loss(labels, logits):\n",
        "  loss = tf.keras.losses.sparse_categorical_crossentropy(labels, logits, from_logits=True)\n",
        "  return loss"
      ],
      "execution_count": null,
      "outputs": []
    },
    {
      "cell_type": "code",
      "metadata": {
        "id": "d1B8GJuOiYc6",
        "colab_type": "code",
        "colab": {}
      },
      "source": [
        "num_training_iterations = 5000\n",
        "batch_size = 256\n",
        "seq_length = None\n",
        "learning_rate = 1e-4"
      ],
      "execution_count": null,
      "outputs": []
    },
    {
      "cell_type": "code",
      "metadata": {
        "id": "A-msnZFhxBRm",
        "colab_type": "code",
        "colab": {}
      },
      "source": [
        "vocab_size = 20000\n",
        "embedding_dim = 512\n",
        "rnn_units = 512\n",
        "\n",
        "checkpoint_dir = './training_checkpoints'\n",
        "checkpoint_prefix = os.path.join(checkpoint_dir, \"my_ckpt\")"
      ],
      "execution_count": null,
      "outputs": []
    },
    {
      "cell_type": "code",
      "metadata": {
        "colab_type": "code",
        "id": "ytyzhogaElpW",
        "colab": {
          "base_uri": "https://localhost:8080/",
          "height": 833
        },
        "outputId": "644dc992-69cc-4678-a5e8-545b52914ebc"
      },
      "source": [
        "model = build_model(vocab_size, embedding_dim, rnn_units, seq_length, batch_size)\n",
        "# model = build_model2(vocab_size, embedding_dim, seq_length, batch_size)\n",
        "model.summary()"
      ],
      "execution_count": null,
      "outputs": [
        {
          "output_type": "stream",
          "text": [
            "Model: \"model\"\n",
            "__________________________________________________________________________________________________\n",
            "Layer (type)                    Output Shape         Param #     Connected to                     \n",
            "==================================================================================================\n",
            "premise (InputLayer)            [(256, None)]        0                                            \n",
            "__________________________________________________________________________________________________\n",
            "hypothesis (InputLayer)         [(256, None)]        0                                            \n",
            "__________________________________________________________________________________________________\n",
            "embedding (Embedding)           (256, None, 512)     10240000    premise[0][0]                    \n",
            "                                                                 hypothesis[0][0]                 \n",
            "__________________________________________________________________________________________________\n",
            "dense (Dense)                   (256, None, 300)     153900      embedding[0][0]                  \n",
            "                                                                 embedding[1][0]                  \n",
            "__________________________________________________________________________________________________\n",
            "bidirectional (Bidirectional)   (256, None, 1024)    3330048     dense[0][0]                      \n",
            "                                                                 dense[1][0]                      \n",
            "__________________________________________________________________________________________________\n",
            "bidirectional_1 (Bidirectional) (256, None, 1024)    6295552     bidirectional[0][0]              \n",
            "                                                                 bidirectional[1][0]              \n",
            "__________________________________________________________________________________________________\n",
            "bidirectional_2 (Bidirectional) (256, None, 1024)    6295552     bidirectional_1[0][0]            \n",
            "                                                                 bidirectional_1[1][0]            \n",
            "__________________________________________________________________________________________________\n",
            "tf_op_layer_Sum (TensorFlowOpLa [(256, 1024)]        0           bidirectional_2[0][0]            \n",
            "__________________________________________________________________________________________________\n",
            "tf_op_layer_Sum_1 (TensorFlowOp [(256, 1024)]        0           bidirectional_2[1][0]            \n",
            "__________________________________________________________________________________________________\n",
            "concatenate (Concatenate)       (256, 2048)          0           tf_op_layer_Sum[0][0]            \n",
            "                                                                 tf_op_layer_Sum_1[0][0]          \n",
            "__________________________________________________________________________________________________\n",
            "dense_1 (Dense)                 (256, 1024)          2098176     concatenate[0][0]                \n",
            "__________________________________________________________________________________________________\n",
            "dropout (Dropout)               (256, 1024)          0           dense_1[0][0]                    \n",
            "__________________________________________________________________________________________________\n",
            "dense_2 (Dense)                 (256, 1024)          1049600     dropout[0][0]                    \n",
            "__________________________________________________________________________________________________\n",
            "dropout_1 (Dropout)             (256, 1024)          0           dense_2[0][0]                    \n",
            "__________________________________________________________________________________________________\n",
            "dense_3 (Dense)                 (256, 1024)          1049600     dropout_1[0][0]                  \n",
            "__________________________________________________________________________________________________\n",
            "dropout_2 (Dropout)             (256, 1024)          0           dense_3[0][0]                    \n",
            "__________________________________________________________________________________________________\n",
            "dense_4 (Dense)                 (256, 3)             3075        dropout_2[0][0]                  \n",
            "==================================================================================================\n",
            "Total params: 30,515,503\n",
            "Trainable params: 30,515,503\n",
            "Non-trainable params: 0\n",
            "__________________________________________________________________________________________________\n"
          ],
          "name": "stdout"
        }
      ]
    },
    {
      "cell_type": "code",
      "metadata": {
        "id": "W1A5n8HF_hYt",
        "colab_type": "code",
        "colab": {}
      },
      "source": [
        "# model = build_model2(vocab_size, embedding_dim, seq_length, batch_size)\n",
        "model = build_model(vocab_size, embedding_dim, rnn_units, seq_length, batch_size)\n",
        "\n",
        "'''TODO: instantiate an optimizer with its learning rate.\n",
        "  Checkout the tensorflow website for a list of supported optimizers.\n",
        "  https://www.tensorflow.org/api_docs/python/tf/keras/optimizers/\n",
        "  Try using the Adam optimizer to start.'''\n",
        "optimizer = tf.keras.optimizers.Adam(learning_rate)\n",
        "\n",
        "@tf.function\n",
        "def train_step(p, h, y): \n",
        "  # Use tf.GradientTape()\n",
        "  with tf.GradientTape() as tape:\n",
        "  \n",
        "    '''TODO: feed the current input into the model and generate predictions'''\n",
        "    y_hat = model([p,h])\n",
        "  \n",
        "    '''TODO: compute the loss!'''\n",
        "    loss = compute_loss(y, y_hat)\n",
        "\n",
        "  # Now, compute the gradients \n",
        "  '''TODO: complete the function call for gradient computation. \n",
        "      Remember that we want the gradient of the loss with respect all \n",
        "      of the model parameters. \n",
        "      HINT: use `model.trainable_variables` to get a list of all model\n",
        "      parameters.'''\n",
        "  grads = tape.gradient(loss, model.trainable_variables)\n",
        "  \n",
        "  # Apply the gradients to the optimizer so it can update the model accordingly\n",
        "  optimizer.apply_gradients(zip(grads, model.trainable_variables))\n",
        "  return loss"
      ],
      "execution_count": null,
      "outputs": []
    },
    {
      "cell_type": "code",
      "metadata": {
        "id": "ObLOCH8dDq2P",
        "colab_type": "code",
        "colab": {
          "base_uri": "https://localhost:8080/",
          "height": 915
        },
        "outputId": "b647b7e5-baee-4716-978d-9b17636ea213"
      },
      "source": [
        "history = []\n",
        "plotter = mdl.util.PeriodicPlotter(sec=2, xlabel='Iterations', ylabel='Loss')\n",
        "if hasattr(tqdm, '_instances'): tqdm._instances.clear() # clear if it exists\n",
        "\n",
        "for iter in tqdm(range(num_training_iterations)):\n",
        "\n",
        "  # Grab a batch and propagate it through the network\n",
        "  p, h, l = get_batch(premise,hypothesis,label,batch_size)\n",
        "  loss = train_step(p, h, l)\n",
        "\n",
        "  # Update the progress bar\n",
        "  history.append(loss.numpy().mean())\n",
        "  plotter.plot(history)\n",
        "\n",
        "  # Update the model with the changed weights!\n",
        "  if iter % 100 == 0:     \n",
        "    model.save_weights(checkpoint_prefix)\n",
        "    history.clear()\n",
        "    \n",
        "# Save the trained model and the weights\n",
        "model.save_weights(checkpoint_prefix)"
      ],
      "execution_count": null,
      "outputs": [
        {
          "output_type": "display_data",
          "data": {
            "image/png": "[encoded data removed]",
            "text/plain": [
              "<Figure size 432x288 with 1 Axes>"
            ]
          },
          "metadata": {
            "tags": []
          }
        },
        {
          "output_type": "stream",
          "text": [
            " 33%|███▎      | 1633/5000 [15:22<31:45,  1.77it/s]"
          ],
          "name": "stderr"
        },
        {
          "output_type": "error",
          "ename": "KeyboardInterrupt",
          "evalue": "ignored",
          "traceback": [
            "\u001b[0;31m---------------------------------------------------------------------------\u001b[0m",
            "\u001b[0;31mKeyboardInterrupt\u001b[0m                         Traceback (most recent call last)",
            "\u001b[0;32m<ipython-input-17-0a13af9f6abc>\u001b[0m in \u001b[0;36m<module>\u001b[0;34m()\u001b[0m\n\u001b[1;32m      7\u001b[0m   \u001b[0;31m# Grab a batch and propagate it through the network\u001b[0m\u001b[0;34m\u001b[0m\u001b[0;34m\u001b[0m\u001b[0;34m\u001b[0m\u001b[0m\n\u001b[1;32m      8\u001b[0m   \u001b[0mp\u001b[0m\u001b[0;34m,\u001b[0m \u001b[0mh\u001b[0m\u001b[0;34m,\u001b[0m \u001b[0ml\u001b[0m \u001b[0;34m=\u001b[0m \u001b[0mget_batch\u001b[0m\u001b[0;34m(\u001b[0m\u001b[0mpremise\u001b[0m\u001b[0;34m,\u001b[0m\u001b[0mhypothesis\u001b[0m\u001b[0;34m,\u001b[0m\u001b[0mlabel\u001b[0m\u001b[0;34m,\u001b[0m\u001b[0mbatch_size\u001b[0m\u001b[0;34m)\u001b[0m\u001b[0;34m\u001b[0m\u001b[0;34m\u001b[0m\u001b[0m\n\u001b[0;32m----> 9\u001b[0;31m   \u001b[0mloss\u001b[0m \u001b[0;34m=\u001b[0m \u001b[0mtrain_step\u001b[0m\u001b[0;34m(\u001b[0m\u001b[0mp\u001b[0m\u001b[0;34m,\u001b[0m \u001b[0mh\u001b[0m\u001b[0;34m,\u001b[0m \u001b[0ml\u001b[0m\u001b[0;34m)\u001b[0m\u001b[0;34m\u001b[0m\u001b[0;34m\u001b[0m\u001b[0m\n\u001b[0m\u001b[1;32m     10\u001b[0m \u001b[0;34m\u001b[0m\u001b[0m\n\u001b[1;32m     11\u001b[0m   \u001b[0;31m# Update the progress bar\u001b[0m\u001b[0;34m\u001b[0m\u001b[0;34m\u001b[0m\u001b[0;34m\u001b[0m\u001b[0m\n",
            "\u001b[0;32m/usr/local/lib/python3.6/dist-packages/tensorflow/python/eager/def_function.py\u001b[0m in \u001b[0;36m__call__\u001b[0;34m(self, *args, **kwds)\u001b[0m\n\u001b[1;32m    578\u001b[0m         \u001b[0mxla_context\u001b[0m\u001b[0;34m.\u001b[0m\u001b[0mExit\u001b[0m\u001b[0;34m(\u001b[0m\u001b[0;34m)\u001b[0m\u001b[0;34m\u001b[0m\u001b[0;34m\u001b[0m\u001b[0m\n\u001b[1;32m    579\u001b[0m     \u001b[0;32melse\u001b[0m\u001b[0;34m:\u001b[0m\u001b[0;34m\u001b[0m\u001b[0;34m\u001b[0m\u001b[0m\n\u001b[0;32m--> 580\u001b[0;31m       \u001b[0mresult\u001b[0m \u001b[0;34m=\u001b[0m \u001b[0mself\u001b[0m\u001b[0;34m.\u001b[0m\u001b[0m_call\u001b[0m\u001b[0;34m(\u001b[0m\u001b[0;34m*\u001b[0m\u001b[0margs\u001b[0m\u001b[0;34m,\u001b[0m \u001b[0;34m**\u001b[0m\u001b[0mkwds\u001b[0m\u001b[0;34m)\u001b[0m\u001b[0;34m\u001b[0m\u001b[0;34m\u001b[0m\u001b[0m\n\u001b[0m\u001b[1;32m    581\u001b[0m \u001b[0;34m\u001b[0m\u001b[0m\n\u001b[1;32m    582\u001b[0m     \u001b[0;32mif\u001b[0m \u001b[0mtracing_count\u001b[0m \u001b[0;34m==\u001b[0m \u001b[0mself\u001b[0m\u001b[0;34m.\u001b[0m\u001b[0m_get_tracing_count\u001b[0m\u001b[0;34m(\u001b[0m\u001b[0;34m)\u001b[0m\u001b[0;34m:\u001b[0m\u001b[0;34m\u001b[0m\u001b[0;34m\u001b[0m\u001b[0m\n",
            "\u001b[0;32m/usr/local/lib/python3.6/dist-packages/tensorflow/python/eager/def_function.py\u001b[0m in \u001b[0;36m_call\u001b[0;34m(self, *args, **kwds)\u001b[0m\n\u001b[1;32m    609\u001b[0m       \u001b[0;31m# In this case we have created variables on the first call, so we run the\u001b[0m\u001b[0;34m\u001b[0m\u001b[0;34m\u001b[0m\u001b[0;34m\u001b[0m\u001b[0m\n\u001b[1;32m    610\u001b[0m       \u001b[0;31m# defunned version which is guaranteed to never create variables.\u001b[0m\u001b[0;34m\u001b[0m\u001b[0;34m\u001b[0m\u001b[0;34m\u001b[0m\u001b[0m\n\u001b[0;32m--> 611\u001b[0;31m       \u001b[0;32mreturn\u001b[0m \u001b[0mself\u001b[0m\u001b[0;34m.\u001b[0m\u001b[0m_stateless_fn\u001b[0m\u001b[0;34m(\u001b[0m\u001b[0;34m*\u001b[0m\u001b[0margs\u001b[0m\u001b[0;34m,\u001b[0m \u001b[0;34m**\u001b[0m\u001b[0mkwds\u001b[0m\u001b[0;34m)\u001b[0m  \u001b[0;31m# pylint: disable=not-callable\u001b[0m\u001b[0;34m\u001b[0m\u001b[0;34m\u001b[0m\u001b[0m\n\u001b[0m\u001b[1;32m    612\u001b[0m     \u001b[0;32melif\u001b[0m \u001b[0mself\u001b[0m\u001b[0;34m.\u001b[0m\u001b[0m_stateful_fn\u001b[0m \u001b[0;32mis\u001b[0m \u001b[0;32mnot\u001b[0m \u001b[0;32mNone\u001b[0m\u001b[0;34m:\u001b[0m\u001b[0;34m\u001b[0m\u001b[0;34m\u001b[0m\u001b[0m\n\u001b[1;32m    613\u001b[0m       \u001b[0;31m# Release the lock early so that multiple threads can perform the call\u001b[0m\u001b[0;34m\u001b[0m\u001b[0;34m\u001b[0m\u001b[0;34m\u001b[0m\u001b[0m\n",
            "\u001b[0;32m/usr/local/lib/python3.6/dist-packages/tensorflow/python/eager/function.py\u001b[0m in \u001b[0;36m__call__\u001b[0;34m(self, *args, **kwargs)\u001b[0m\n\u001b[1;32m   2418\u001b[0m     \u001b[0;32mwith\u001b[0m \u001b[0mself\u001b[0m\u001b[0;34m.\u001b[0m\u001b[0m_lock\u001b[0m\u001b[0;34m:\u001b[0m\u001b[0;34m\u001b[0m\u001b[0;34m\u001b[0m\u001b[0m\n\u001b[1;32m   2419\u001b[0m       \u001b[0mgraph_function\u001b[0m\u001b[0;34m,\u001b[0m \u001b[0margs\u001b[0m\u001b[0;34m,\u001b[0m \u001b[0mkwargs\u001b[0m \u001b[0;34m=\u001b[0m \u001b[0mself\u001b[0m\u001b[0;34m.\u001b[0m\u001b[0m_maybe_define_function\u001b[0m\u001b[0;34m(\u001b[0m\u001b[0margs\u001b[0m\u001b[0;34m,\u001b[0m \u001b[0mkwargs\u001b[0m\u001b[0;34m)\u001b[0m\u001b[0;34m\u001b[0m\u001b[0;34m\u001b[0m\u001b[0m\n\u001b[0;32m-> 2420\u001b[0;31m     \u001b[0;32mreturn\u001b[0m \u001b[0mgraph_function\u001b[0m\u001b[0;34m.\u001b[0m\u001b[0m_filtered_call\u001b[0m\u001b[0;34m(\u001b[0m\u001b[0margs\u001b[0m\u001b[0;34m,\u001b[0m \u001b[0mkwargs\u001b[0m\u001b[0;34m)\u001b[0m  \u001b[0;31m# pylint: disable=protected-access\u001b[0m\u001b[0;34m\u001b[0m\u001b[0;34m\u001b[0m\u001b[0m\n\u001b[0m\u001b[1;32m   2421\u001b[0m \u001b[0;34m\u001b[0m\u001b[0m\n\u001b[1;32m   2422\u001b[0m   \u001b[0;34m@\u001b[0m\u001b[0mproperty\u001b[0m\u001b[0;34m\u001b[0m\u001b[0;34m\u001b[0m\u001b[0m\n",
            "\u001b[0;32m/usr/local/lib/python3.6/dist-packages/tensorflow/python/eager/function.py\u001b[0m in \u001b[0;36m_filtered_call\u001b[0;34m(self, args, kwargs)\u001b[0m\n\u001b[1;32m   1663\u001b[0m          if isinstance(t, (ops.Tensor,\n\u001b[1;32m   1664\u001b[0m                            resource_variable_ops.BaseResourceVariable))),\n\u001b[0;32m-> 1665\u001b[0;31m         self.captured_inputs)\n\u001b[0m\u001b[1;32m   1666\u001b[0m \u001b[0;34m\u001b[0m\u001b[0m\n\u001b[1;32m   1667\u001b[0m   \u001b[0;32mdef\u001b[0m \u001b[0m_call_flat\u001b[0m\u001b[0;34m(\u001b[0m\u001b[0mself\u001b[0m\u001b[0;34m,\u001b[0m \u001b[0margs\u001b[0m\u001b[0;34m,\u001b[0m \u001b[0mcaptured_inputs\u001b[0m\u001b[0;34m,\u001b[0m \u001b[0mcancellation_manager\u001b[0m\u001b[0;34m=\u001b[0m\u001b[0;32mNone\u001b[0m\u001b[0;34m)\u001b[0m\u001b[0;34m:\u001b[0m\u001b[0;34m\u001b[0m\u001b[0;34m\u001b[0m\u001b[0m\n",
            "\u001b[0;32m/usr/local/lib/python3.6/dist-packages/tensorflow/python/eager/function.py\u001b[0m in \u001b[0;36m_call_flat\u001b[0;34m(self, args, captured_inputs, cancellation_manager)\u001b[0m\n\u001b[1;32m   1744\u001b[0m       \u001b[0;31m# No tape is watching; skip to running the function.\u001b[0m\u001b[0;34m\u001b[0m\u001b[0;34m\u001b[0m\u001b[0;34m\u001b[0m\u001b[0m\n\u001b[1;32m   1745\u001b[0m       return self._build_call_outputs(self._inference_function.call(\n\u001b[0;32m-> 1746\u001b[0;31m           ctx, args, cancellation_manager=cancellation_manager))\n\u001b[0m\u001b[1;32m   1747\u001b[0m     forward_backward = self._select_forward_and_backward_functions(\n\u001b[1;32m   1748\u001b[0m         \u001b[0margs\u001b[0m\u001b[0;34m,\u001b[0m\u001b[0;34m\u001b[0m\u001b[0;34m\u001b[0m\u001b[0m\n",
            "\u001b[0;32m/usr/local/lib/python3.6/dist-packages/tensorflow/python/eager/function.py\u001b[0m in \u001b[0;36mcall\u001b[0;34m(self, ctx, args, cancellation_manager)\u001b[0m\n\u001b[1;32m    596\u001b[0m               \u001b[0minputs\u001b[0m\u001b[0;34m=\u001b[0m\u001b[0margs\u001b[0m\u001b[0;34m,\u001b[0m\u001b[0;34m\u001b[0m\u001b[0;34m\u001b[0m\u001b[0m\n\u001b[1;32m    597\u001b[0m               \u001b[0mattrs\u001b[0m\u001b[0;34m=\u001b[0m\u001b[0mattrs\u001b[0m\u001b[0;34m,\u001b[0m\u001b[0;34m\u001b[0m\u001b[0;34m\u001b[0m\u001b[0m\n\u001b[0;32m--> 598\u001b[0;31m               ctx=ctx)\n\u001b[0m\u001b[1;32m    599\u001b[0m         \u001b[0;32melse\u001b[0m\u001b[0;34m:\u001b[0m\u001b[0;34m\u001b[0m\u001b[0;34m\u001b[0m\u001b[0m\n\u001b[1;32m    600\u001b[0m           outputs = execute.execute_with_cancellation(\n",
            "\u001b[0;32m/usr/local/lib/python3.6/dist-packages/tensorflow/python/eager/execute.py\u001b[0m in \u001b[0;36mquick_execute\u001b[0;34m(op_name, num_outputs, inputs, attrs, ctx, name)\u001b[0m\n\u001b[1;32m     58\u001b[0m     \u001b[0mctx\u001b[0m\u001b[0;34m.\u001b[0m\u001b[0mensure_initialized\u001b[0m\u001b[0;34m(\u001b[0m\u001b[0;34m)\u001b[0m\u001b[0;34m\u001b[0m\u001b[0;34m\u001b[0m\u001b[0m\n\u001b[1;32m     59\u001b[0m     tensors = pywrap_tfe.TFE_Py_Execute(ctx._handle, device_name, op_name,\n\u001b[0;32m---> 60\u001b[0;31m                                         inputs, attrs, num_outputs)\n\u001b[0m\u001b[1;32m     61\u001b[0m   \u001b[0;32mexcept\u001b[0m \u001b[0mcore\u001b[0m\u001b[0;34m.\u001b[0m\u001b[0m_NotOkStatusException\u001b[0m \u001b[0;32mas\u001b[0m \u001b[0me\u001b[0m\u001b[0;34m:\u001b[0m\u001b[0;34m\u001b[0m\u001b[0;34m\u001b[0m\u001b[0m\n\u001b[1;32m     62\u001b[0m     \u001b[0;32mif\u001b[0m \u001b[0mname\u001b[0m \u001b[0;32mis\u001b[0m \u001b[0;32mnot\u001b[0m \u001b[0;32mNone\u001b[0m\u001b[0;34m:\u001b[0m\u001b[0;34m\u001b[0m\u001b[0;34m\u001b[0m\u001b[0m\n",
            "\u001b[0;31mKeyboardInterrupt\u001b[0m: "
          ]
        },
        {
          "output_type": "display_data",
          "data": {
            "image/png": "[encoded data removed]",
            "text/plain": [
              "<Figure size 432x288 with 1 Axes>"
            ]
          },
          "metadata": {
            "tags": [],
            "needs_background": "light"
          }
        }
      ]
    },
    {
      "cell_type": "code",
      "metadata": {
        "id": "oglJ_rDVMTZ7",
        "colab_type": "code",
        "colab": {
          "base_uri": "https://localhost:8080/",
          "height": 207
        },
        "outputId": "3059ecf7-afd1-483a-af5e-07356530071b"
      },
      "source": [
        "!zip -r training_checkpoint.zip training_checkpoints/\n",
        "from google.colab import drive\n",
        "drive.mount('/content/gdrive')\n",
        "!cp training_checkpoint.zip /content/gdrive/My\\ Drive"
      ],
      "execution_count": null,
      "outputs": [
        {
          "output_type": "stream",
          "text": [
            "updating: training_checkpoints/ (stored 0%)\n",
            "updating: training_checkpoints/my_ckpt.data-00001-of-00002 (deflated 7%)\n",
            "updating: training_checkpoints/my_ckpt.index (deflated 70%)\n",
            "updating: training_checkpoints/checkpoint (deflated 38%)\n",
            "updating: training_checkpoints/my_ckpt.data-00000-of-00002 (deflated 7%)\n",
            "Go to this URL in a browser: https://accounts.google.com/o/oauth2/auth?client_id=947318989803-6bn6qk8qdgf4n4g3pfee6491hc0brc4i.apps.googleusercontent.com&redirect_uri=urn%3aietf%3awg%3aoauth%3a2.0%3aoob&response_type=code&scope=email%20https%3a%2f%2fwww.googleapis.com%2fauth%2fdocs.test%20https%3a%2f%2fwww.googleapis.com%2fauth%2fdrive%20https%3a%2f%2fwww.googleapis.com%2fauth%2fdrive.photos.readonly%20https%3a%2f%2fwww.googleapis.com%2fauth%2fpeopleapi.readonly\n",
            "\n",
            "Enter your authorization code:\n",
            "··········\n",
            "Mounted at /content/gdrive\n"
          ],
          "name": "stdout"
        }
      ]
    },
    {
      "cell_type": "code",
      "metadata": {
        "id": "-XQmDo5dnjCn",
        "colab_type": "code",
        "colab": {}
      },
      "source": [
        ""
      ],
      "execution_count": null,
      "outputs": []
    }
  ]
}