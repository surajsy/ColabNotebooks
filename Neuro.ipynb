{
  "nbformat": 4,
  "nbformat_minor": 0,
  "metadata": {
    "colab": {
      "name": "Neuro.ipynb",
      "provenance": [],
      "collapsed_sections": [],
      "authorship_tag": "ABX9TyNBoqqUtohHS34rnnroaspu",
      "include_colab_link": true
    },
    "kernelspec": {
      "name": "python3",
      "display_name": "Python 3"
    },
    "accelerator": "GPU"
  },
  "cells": [
    {
      "cell_type": "markdown",
      "metadata": {
        "id": "view-in-github",
        "colab_type": "text"
      },
      "source": [
        "<a href=\"https://colab.research.google.com/github/surajsy/ColabNotebooks/blob/master/Neuro.ipynb\" target=\"_parent\"><img src=\"https://colab.research.google.com/assets/colab-badge.svg\" alt=\"Open In Colab\"/></a>"
      ]
    },
    {
      "cell_type": "code",
      "metadata": {
        "id": "u9hzySGbwM-h",
        "colab_type": "code",
        "colab": {
          "base_uri": "https://localhost:8080/",
          "height": 34
        },
        "outputId": "b546ff5a-b264-4560-d908-8e023af48230"
      },
      "source": [
        "import sys\n",
        "sys.version"
      ],
      "execution_count": null,
      "outputs": [
        {
          "output_type": "execute_result",
          "data": {
            "text/plain": [
              "'3.6.9 (default, Apr 18 2020, 01:56:04) \\n[GCC 8.4.0]'"
            ]
          },
          "metadata": {
            "tags": []
          },
          "execution_count": 1
        }
      ]
    },
    {
      "cell_type": "code",
      "metadata": {
        "id": "i671p-qFwTNB",
        "colab_type": "code",
        "colab": {
          "base_uri": "https://localhost:8080/",
          "height": 122
        },
        "outputId": "dfbcc21c-5e58-4bde-b9b8-987fdb3c6191"
      },
      "source": [
        "from google.colab import drive\n",
        "drive.mount('/content/gdrive')"
      ],
      "execution_count": null,
      "outputs": [
        {
          "output_type": "stream",
          "text": [
            "Go to this URL in a browser: https://accounts.google.com/o/oauth2/auth?client_id=947318989803-6bn6qk8qdgf4n4g3pfee6491hc0brc4i.apps.googleusercontent.com&redirect_uri=urn%3aietf%3awg%3aoauth%3a2.0%3aoob&response_type=code&scope=email%20https%3a%2f%2fwww.googleapis.com%2fauth%2fdocs.test%20https%3a%2f%2fwww.googleapis.com%2fauth%2fdrive%20https%3a%2f%2fwww.googleapis.com%2fauth%2fdrive.photos.readonly%20https%3a%2f%2fwww.googleapis.com%2fauth%2fpeopleapi.readonly\n",
            "\n",
            "Enter your authorization code:\n",
            "··········\n",
            "Mounted at /content/gdrive\n"
          ],
          "name": "stdout"
        }
      ]
    },
    {
      "cell_type": "code",
      "metadata": {
        "id": "fHByk-QrwXkA",
        "colab_type": "code",
        "colab": {}
      },
      "source": [
        "import torch\n",
        "import torch.nn as nn\n",
        "import torchvision.transforms as transforms\n",
        "from torch.autograd import Variable\n",
        "\n",
        "import scipy.io as sio\n",
        "import glob\n",
        "import numpy as np"
      ],
      "execution_count": null,
      "outputs": []
    },
    {
      "cell_type": "code",
      "metadata": {
        "id": "mwIVNwVvwael",
        "colab_type": "code",
        "colab": {
          "base_uri": "https://localhost:8080/",
          "height": 51
        },
        "outputId": "8c9f3884-f130-49c0-9355-f410d99929d0"
      },
      "source": [
        "path = '/content/gdrive/My Drive/PRNN/Neuro_dataset/'\n",
        "\n",
        "alzh_aal_data = []\n",
        "alzh_power_data = []\n",
        "for f in glob.iglob(path+'Alzheimer*/*',recursive=True):\n",
        "  content = sio.loadmat(f)\n",
        "  alzh_aal_data.append(content['tc_rest_aal'].astype(np.float32))\n",
        "  alzh_power_data.append(content['tc_rest_power'].astype(np.float32))\n",
        "\n",
        "normal_aal_data = []\n",
        "normal_power_data = []\n",
        "for f in glob.iglob(path+'Normal*/*',recursive=True):\n",
        "  content = sio.loadmat(f)\n",
        "  normal_aal_data.append(content['tc_rest_aal'].astype(np.float32))\n",
        "  normal_power_data.append(content['tc_rest_power'].astype(np.float32))\n",
        "\n",
        "all_aal_data = alzh_aal_data + normal_aal_data\n",
        "all_power_data = alzh_power_data + normal_power_data\n",
        "print(np.shape(all_aal_data))\n",
        "print(np.shape(all_power_data))"
      ],
      "execution_count": null,
      "outputs": [
        {
          "output_type": "stream",
          "text": [
            "(81, 140, 116)\n",
            "(81, 140, 264)\n"
          ],
          "name": "stdout"
        }
      ]
    },
    {
      "cell_type": "code",
      "metadata": {
        "id": "abiiEyjGpzcS",
        "colab_type": "code",
        "colab": {}
      },
      "source": [
        "from sklearn.preprocessing import MinMaxScaler, StandardScaler\n",
        "\n",
        "scaler = MinMaxScaler(feature_range=(-1, 1))\n",
        "# scaler = StandardScaler()\n",
        "all_aal_data = list(map(lambda X: scaler.fit_transform(X), all_aal_data))\n",
        "all_power_data = list(map(lambda X: scaler.fit_transform(X), all_power_data))"
      ],
      "execution_count": null,
      "outputs": []
    },
    {
      "cell_type": "code",
      "metadata": {
        "id": "V_qz6dKSxw7S",
        "colab_type": "code",
        "colab": {
          "base_uri": "https://localhost:8080/",
          "height": 34
        },
        "outputId": "bca179c3-ddfe-4ae2-b443-16bb1865b1f4"
      },
      "source": [
        "labels = list(\n",
        "    np.concatenate(\n",
        "        (np.zeros(len(alzh_aal_data), dtype=np.long),\n",
        "          np.ones(len(normal_aal_data), dtype=np.long))\n",
        "        )\n",
        "    )\n",
        "len(labels)"
      ],
      "execution_count": null,
      "outputs": [
        {
          "output_type": "execute_result",
          "data": {
            "text/plain": [
              "81"
            ]
          },
          "metadata": {
            "tags": []
          },
          "execution_count": 6
        }
      ]
    },
    {
      "cell_type": "code",
      "metadata": {
        "id": "0Aoxpxdb9av4",
        "colab_type": "code",
        "colab": {}
      },
      "source": [
        "def train_fnn(train_loader, net, num_epochs, reshape):\n",
        "  for epoch in range(num_epochs):\n",
        "      for i, (data, labels) in enumerate(train_loader):\n",
        "        data = Variable(data.view(reshape))\n",
        "        # print(np.shape(data))         \n",
        "        labels = Variable(labels)\n",
        "          \n",
        "        if use_cuda and torch.cuda.is_available():\n",
        "            data = data.cuda()\n",
        "            labels = labels.cuda()\n",
        "        \n",
        "        optimizer.zero_grad()                             \n",
        "        outputs = net(data)\n",
        "        # print(np.shape(outputs.squeeze(axis=1)), np.shape(labels))\n",
        "        # print(np.shape(outputs))                            \n",
        "        loss = criterion(outputs.squeeze(axis=1), labels)                 \n",
        "        loss.backward()                                   \n",
        "        optimizer.step()                                  \n",
        "        \n",
        "        # if (i+1) % 10 == 0:                             \n",
        "        #     print('Epoch [%d/%d], Step [%d/%d], Loss: %.4f'\n",
        "        #         %(epoch+1, num_epochs, i+1, len(data)//batch_size, loss.item()))\n",
        "\n",
        "def test_fnn(test_loader, net, reshape):              \n",
        "  correct = 0\n",
        "  total = 0\n",
        "  for data, labels in test_loader:\n",
        "    data = Variable(data.view(reshape))\n",
        "    \n",
        "    if use_cuda and torch.cuda.is_available():\n",
        "        data = data.cuda()\n",
        "        labels = labels.cuda()\n",
        "    \n",
        "    \n",
        "    outputs = net(data)\n",
        "    _, predicted = torch.max(outputs.data, 1)\n",
        "    total += labels.size(0)                    \n",
        "    correct += (predicted == labels).sum()     \n",
        "      \n",
        "  print('Accuracy of the network on the 30 test samples: %d %%' % (100 * correct / total))"
      ],
      "execution_count": null,
      "outputs": []
    },
    {
      "cell_type": "code",
      "metadata": {
        "id": "h7C0n1MMyBFa",
        "colab_type": "code",
        "colab": {}
      },
      "source": [
        "class Net(nn.Module):\n",
        "    def __init__(self, input_size, hidden_size, num_classes):\n",
        "        super(Net, self).__init__()                    \n",
        "        self.fc1 = nn.Linear(input_size, hidden_size[0]) \n",
        "        self.relu = nn.Tanh()                          \n",
        "        self.fc2 = nn.Linear(hidden_size[0], hidden_size[1])\n",
        "        self.elu = nn.Tanh()\n",
        "        self.fc3 = nn.Linear(hidden_size[1], hidden_size[2])\n",
        "        self.tanh = nn.Tanh()\n",
        "        self.fc4 = nn.Linear(hidden_size[2],hidden_size[3])\n",
        "        self.relu1 = nn.Tanh()\n",
        "        self.fc5 = nn.Linear(hidden_size[3], num_classes)\n",
        "    \n",
        "    def forward(self, x):                              \n",
        "        out = self.fc1(x)\n",
        "        out = self.relu(out)\n",
        "        out = self.fc2(out)\n",
        "        out = self.elu(out)\n",
        "        out = self.fc3(out)\n",
        "        out = self.tanh(out)\n",
        "        out = self.fc4(out)\n",
        "        out = self.relu1(out)\n",
        "        out = self.fc5(out)\n",
        "        return out"
      ],
      "execution_count": null,
      "outputs": []
    },
    {
      "cell_type": "code",
      "metadata": {
        "id": "zuVg3TTKGdzw",
        "colab_type": "code",
        "colab": {}
      },
      "source": [
        "class LSTMnet(nn.Module):\n",
        "  def __init__(self, input_size, hidden_size, num_layers, num_classes):\n",
        "    super(LSTMnet, self).__init__()\n",
        "    self.lstm = nn.LSTM(input_size, hidden_size, num_layers, batch_first=True)\n",
        "    self.dropout = nn.Dropout(p=0.1)\n",
        "    self.fc1 = nn.Linear(hidden_size, 128)\n",
        "    self.relu = nn.ReLU()\n",
        "    self.fc2 = nn.Linear(128, num_classes)\n",
        "\n",
        "  def forward(self, x):\n",
        "    _, (out, cn) = self.lstm(x)\n",
        "    out = self.dropout(out)\n",
        "    out = self.fc1(out)\n",
        "    out = self.relu(out)\n",
        "    out = self.fc2(out)\n",
        "    return out"
      ],
      "execution_count": null,
      "outputs": []
    },
    {
      "cell_type": "code",
      "metadata": {
        "id": "jN-7_-IODpAw",
        "colab_type": "code",
        "colab": {}
      },
      "source": [
        "class LSTMnet2(nn.Module):\n",
        "  def __init__(self, input_size1, input_size2, hidden_size1, hidden_size2, num_layers, num_classes):\n",
        "    super(LSTMnet2, self).__init__()\n",
        "    self.lstm1 = nn.LSTM(input_size1, hidden_size1, num_layers, batch_first=True)\n",
        "    self.lstm2 = nn.LSTM(input_size2, hidden_size2, num_layers, batch_first=True)\n",
        "    self.dropout = nn.Dropout(p=0.1)\n",
        "    self.fc1 = nn.Linear(hidden_size1+hidden_size2, 128)\n",
        "    self.relu = nn.ReLU()\n",
        "    self.fc2 = nn.Linear(128, num_classes)\n",
        "\n",
        "  def forward(self, x, y):\n",
        "    _, (out1, cn) = self.lstm1(x)\n",
        "    _, (out2, cn) = self.lstm2(y)\n",
        "    # print(np.shape(out1), np.shape(out2))\n",
        "    out = torch.cat((out1, out2), dim=2)\n",
        "    out = self.dropout(out)\n",
        "    out = self.fc1(out)\n",
        "    out = self.relu(out)\n",
        "    out = self.fc2(out)\n",
        "    return out"
      ],
      "execution_count": null,
      "outputs": []
    },
    {
      "cell_type": "code",
      "metadata": {
        "id": "RGC-eKdZ3xoc",
        "colab_type": "code",
        "colab": {
          "base_uri": "https://localhost:8080/",
          "height": 34
        },
        "outputId": "5b78d093-4926-4789-849e-429a618dbc25"
      },
      "source": [
        "train, test = torch.utils.data.random_split(list(zip(all_aal_data, labels)), [54, 27])\n",
        "\n",
        "seq_len       = 140\n",
        "input_size    = 116  \n",
        "hidden_size   = [2048, 2048, 2048, 2048]\n",
        "num_classes   = 2\n",
        "num_epochs    = 25     \n",
        "batch_size    = 1   \n",
        "learning_rate = 1e-3\n",
        "\n",
        "train_loader = torch.utils.data.DataLoader(dataset=train, batch_size=batch_size, shuffle=True)\n",
        "test_loader = torch.utils.data.DataLoader(dataset=test, batch_size=batch_size, shuffle=False)\n",
        "\n",
        "net = Net(input_size*seq_len, hidden_size, num_classes)\n",
        "use_cuda = True\n",
        "\n",
        "if use_cuda and torch.cuda.is_available():\n",
        "    net.cuda()\n",
        "\n",
        "criterion = nn.CrossEntropyLoss()\n",
        "optimizer = torch.optim.Adam(net.parameters(), lr=learning_rate)\n",
        "\n",
        "train_fnn(train_loader, net, num_epochs, [batch_size, input_size*seq_len])\n",
        "test_fnn(test_loader, net, [batch_size, input_size*seq_len])"
      ],
      "execution_count": null,
      "outputs": [
        {
          "output_type": "stream",
          "text": [
            "Accuracy of the network on the 30 test samples: 40 %\n"
          ],
          "name": "stdout"
        }
      ]
    },
    {
      "cell_type": "code",
      "metadata": {
        "id": "7Fdp6qZYvqnx",
        "colab_type": "code",
        "colab": {
          "base_uri": "https://localhost:8080/",
          "height": 34
        },
        "outputId": "7c96dfdb-7a7a-4704-8df0-d58f25f09889"
      },
      "source": [
        "train, test = torch.utils.data.random_split(list(zip(all_aal_data, labels)), [54, 27])\n",
        "\n",
        "input_size    = 116\n",
        "seq_len       = 140  \n",
        "hidden_size   = 70\n",
        "num_layers = 1\n",
        "num_classes   = 2\n",
        "num_epochs    = 25     \n",
        "batch_size    = 1   \n",
        "learning_rate = 1e-3\n",
        "\n",
        "lstm_net = LSTMnet(input_size, hidden_size, num_layers, num_classes)\n",
        "\n",
        "train_loader = torch.utils.data.DataLoader(dataset=train, batch_size=batch_size, shuffle=True)\n",
        "test_loader = torch.utils.data.DataLoader(dataset=test, batch_size=batch_size, shuffle=False)\n",
        "\n",
        "use_cuda = True\n",
        "\n",
        "if use_cuda and torch.cuda.is_available():\n",
        "    lstm_net.cuda()\n",
        "\n",
        "criterion = nn.CrossEntropyLoss()\n",
        "optimizer = torch.optim.Adam(lstm_net.parameters(), lr=learning_rate)\n",
        "\n",
        "train_fnn(train_loader, lstm_net, num_epochs, [batch_size, seq_len, input_size])\n",
        "test_fnn(test_loader, lstm_net, [batch_size, seq_len, input_size])"
      ],
      "execution_count": null,
      "outputs": [
        {
          "output_type": "stream",
          "text": [
            "Accuracy of the network on the 30 test samples: 66 %\n"
          ],
          "name": "stdout"
        }
      ]
    },
    {
      "cell_type": "code",
      "metadata": {
        "id": "9I_GPvqw5phY",
        "colab_type": "code",
        "colab": {
          "base_uri": "https://localhost:8080/",
          "height": 34
        },
        "outputId": "4a24f3ba-e278-46b2-a90d-18643f11838b"
      },
      "source": [
        "train, test = torch.utils.data.random_split(list(zip(all_power_data, labels)), [54, 27])\n",
        "\n",
        "seq_len       = 140\n",
        "input_size    = 264  \n",
        "hidden_size   = [2048, 512, 256, 64]\n",
        "num_classes   = 2\n",
        "num_epochs    = 25     \n",
        "batch_size    = 1   \n",
        "learning_rate = 1e-3\n",
        "\n",
        "train_loader = torch.utils.data.DataLoader(dataset=train, batch_size=batch_size, shuffle=True)\n",
        "test_loader = torch.utils.data.DataLoader(dataset=test, batch_size=batch_size, shuffle=False)\n",
        "\n",
        "net = Net(input_size*seq_len, hidden_size, num_classes)\n",
        "\n",
        "use_cuda = True\n",
        "\n",
        "if use_cuda and torch.cuda.is_available():\n",
        "    net.cuda()\n",
        "\n",
        "criterion = nn.CrossEntropyLoss()\n",
        "optimizer = torch.optim.Adam(net.parameters(), lr=learning_rate)\n",
        "\n",
        "train_fnn(train_loader, net, num_epochs, [batch_size, input_size*seq_len])\n",
        "test_fnn(test_loader, net, [batch_size, seq_len*input_size])"
      ],
      "execution_count": null,
      "outputs": [
        {
          "output_type": "stream",
          "text": [
            "Accuracy of the network on the 30 test samples: 55 %\n"
          ],
          "name": "stdout"
        }
      ]
    },
    {
      "cell_type": "code",
      "metadata": {
        "id": "hf0wCPgsCasr",
        "colab_type": "code",
        "colab": {
          "base_uri": "https://localhost:8080/",
          "height": 34
        },
        "outputId": "1eb3d99d-da3e-4f28-d78e-5a17c8f82488"
      },
      "source": [
        "train, test = torch.utils.data.random_split(list(zip(all_power_data, labels)), [54, 27])\n",
        "\n",
        "input_size    = 264\n",
        "seq_len       = 140  \n",
        "hidden_size   = 132\n",
        "num_layers = 1\n",
        "num_classes   = 2\n",
        "num_epochs    = 25    \n",
        "batch_size    = 1   \n",
        "learning_rate = 1e-3\n",
        "\n",
        "train_loader = torch.utils.data.DataLoader(dataset=train, batch_size=batch_size, shuffle=True)\n",
        "test_loader = torch.utils.data.DataLoader(dataset=test, batch_size=batch_size, shuffle=True)\n",
        "\n",
        "lstm_net = LSTMnet(input_size, hidden_size, num_layers, num_classes)\n",
        "\n",
        "use_cuda = True\n",
        "\n",
        "if use_cuda and torch.cuda.is_available():\n",
        "    lstm_net.cuda()\n",
        "\n",
        "criterion = nn.CrossEntropyLoss()\n",
        "optimizer = torch.optim.Adam(lstm_net.parameters(), lr=learning_rate)\n",
        "\n",
        "train_fnn(train_loader, lstm_net, num_epochs, [batch_size, seq_len, input_size])\n",
        "test_fnn(test_loader, lstm_net, [batch_size, seq_len, input_size])"
      ],
      "execution_count": null,
      "outputs": [
        {
          "output_type": "stream",
          "text": [
            "Accuracy of the network on the 30 test samples: 81 %\n"
          ],
          "name": "stdout"
        }
      ]
    },
    {
      "cell_type": "code",
      "metadata": {
        "id": "cWZIoc12LipB",
        "colab_type": "code",
        "colab": {}
      },
      "source": [
        "train, test = torch.utils.data.random_split(list(zip(all_aal_data, all_power_data, labels)), [54, 27])\n",
        "\n",
        "train_loader = torch.utils.data.DataLoader(dataset=train, batch_size=batch_size, shuffle=True)\n",
        "test_loader = torch.utils.data.DataLoader(dataset=test, batch_size=batch_size, shuffle=False)\n",
        "\n",
        "input_size1 = 116\n",
        "input_size2   = 264\n",
        "seq_len       = 140\n",
        "hidden_size1 = 58  \n",
        "hidden_size2   = 132\n",
        "num_layers = 1\n",
        "num_classes   = 2\n",
        "num_epochs    = 25    \n",
        "batch_size    = 1   \n",
        "learning_rate = 1e-3\n",
        "\n",
        "lstm_net2 = LSTMnet2(input_size1, input_size2, hidden_size1, hidden_size2, num_layers, num_classes)\n",
        "\n",
        "use_cuda = True\n",
        "\n",
        "if use_cuda and torch.cuda.is_available():\n",
        "    lstm_net2.cuda()\n",
        "\n",
        "criterion = nn.CrossEntropyLoss()\n",
        "optimizer = torch.optim.Adam(lstm_net.parameters(), lr=learning_rate)"
      ],
      "execution_count": null,
      "outputs": []
    },
    {
      "cell_type": "code",
      "metadata": {
        "id": "CYAEF2glMvMG",
        "colab_type": "code",
        "colab": {}
      },
      "source": [
        "for epoch in range(num_epochs):\n",
        "    for i, (data1, data2, label) in enumerate(train_loader):\n",
        "      data1 = Variable(data1.view(-1, seq_len, input_size1))\n",
        "      data2 = Variable(data2.view(-1, seq_len, input_size2))\n",
        "      # print(np.shape(data))         \n",
        "      label = Variable(label)\n",
        "        \n",
        "      if use_cuda and torch.cuda.is_available():\n",
        "          data1 = data1.cuda()\n",
        "          data2 = data2.cuda()\n",
        "          label = label.cuda()\n",
        "      \n",
        "      optimizer.zero_grad()                             \n",
        "      outputs = lstm_net2(data1, data2)\n",
        "      # print(np.shape(outputs.squeeze(axis=1)), np.shape(labels))\n",
        "      # print(np.shape(outputs))                            \n",
        "      loss = criterion(outputs.squeeze(axis=1), label)                 \n",
        "      loss.backward()                                   \n",
        "      optimizer.step()                                  \n",
        "      \n",
        "      # if (i+1) % 10 == 0:                             \n",
        "      #     print('Epoch [%d/%d], Step [%d/%d], Loss: %.4f'\n",
        "              # %(epoch+1, num_epochs, i+1, len(data1)//batch_size, loss.item()))"
      ],
      "execution_count": null,
      "outputs": []
    },
    {
      "cell_type": "code",
      "metadata": {
        "id": "2QJCIE6dPVwZ",
        "colab_type": "code",
        "colab": {
          "base_uri": "https://localhost:8080/",
          "height": 34
        },
        "outputId": "e7bf9329-ebe7-4f29-84ae-8ac4e2e16b82"
      },
      "source": [
        "  correct = 0\n",
        "  total = 0\n",
        "  for data1, data2, label in test_loader:\n",
        "    data1 = Variable(data1.view(-1, seq_len, input_size1))\n",
        "    data2 = Variable(data2.view(-1, seq_len, input_size2))\n",
        "    \n",
        "    if use_cuda and torch.cuda.is_available():\n",
        "        data1 = data1.cuda()\n",
        "        data2 = data2.cuda()\n",
        "        label = label.cuda()\n",
        "    \n",
        "    \n",
        "    outputs = lstm_net2(data1, data2)\n",
        "    _, predicted = torch.max(outputs.data, 1)\n",
        "    total += label.size(0)                    \n",
        "    correct += (predicted == label).sum()     \n",
        "      \n",
        "  print('Accuracy of the network on the 30 test samples: %d %%' % (100 * correct / total))"
      ],
      "execution_count": null,
      "outputs": [
        {
          "output_type": "stream",
          "text": [
            "Accuracy of the network on the 30 test samples: 88 %\n"
          ],
          "name": "stdout"
        }
      ]
    },
    {
      "cell_type": "code",
      "metadata": {
        "id": "QuJ3MJRYRYCf",
        "colab_type": "code",
        "colab": {}
      },
      "source": [
        "from sklearn.svm import SVC\n",
        "from sklearn.linear_model import LogisticRegression\n",
        "from sklearn.metrics import accuracy_score\n",
        "from sklearn.model_selection import train_test_split\n",
        "from sklearn.decomposition import PCA"
      ],
      "execution_count": null,
      "outputs": []
    },
    {
      "cell_type": "code",
      "metadata": {
        "id": "1RlISR1r4EEF",
        "colab_type": "code",
        "colab": {}
      },
      "source": [
        "flat_aal_data = np.reshape(np.array(all_aal_data),(len(all_aal_data), -1))\n",
        "flat_power_data = np.reshape(np.array(all_power_data),(len(all_power_data), -1))\n",
        "flat_data = np.concatenate((flat_aal_data, flat_power_data), axis=1)"
      ],
      "execution_count": null,
      "outputs": []
    },
    {
      "cell_type": "code",
      "metadata": {
        "id": "Pb8SpuTyww8p",
        "colab_type": "code",
        "colab": {}
      },
      "source": [
        "kernel = ['rbf']\n",
        "C = [0.0001, 0.1, 1, 10]"
      ],
      "execution_count": null,
      "outputs": []
    },
    {
      "cell_type": "code",
      "metadata": {
        "id": "mn5zmo--w3Q_",
        "colab_type": "code",
        "colab": {
          "base_uri": "https://localhost:8080/",
          "height": 85
        },
        "outputId": "0da85786-6a64-46e7-b506-5d0f40317195"
      },
      "source": [
        "train_X, test_X, train_y, test_y = train_test_split(flat_aal_data, labels,test_size=0.3,shuffle=True)\n",
        "\n",
        "for c in C:\n",
        "  for k in kernel:\n",
        "    clf = SVC(C=c, kernel=k)\n",
        "\n",
        "    clf.fit(train_X, train_y)\n",
        "    pred = clf.predict(test_X)\n",
        "    print('kernel:', k, '\tC:', c, '\tSVM Accuracy:', 100*accuracy_score(test_y,pred))"
      ],
      "execution_count": null,
      "outputs": [
        {
          "output_type": "stream",
          "text": [
            "kernel: rbf \tC: 0.0001 \tSVM Accuracy: 68.0\n",
            "kernel: rbf \tC: 0.1 \tSVM Accuracy: 68.0\n",
            "kernel: rbf \tC: 1 \tSVM Accuracy: 68.0\n",
            "kernel: rbf \tC: 10 \tSVM Accuracy: 44.0\n"
          ],
          "name": "stdout"
        }
      ]
    },
    {
      "cell_type": "code",
      "metadata": {
        "id": "Gy7LB6Vmxyjq",
        "colab_type": "code",
        "colab": {
          "base_uri": "https://localhost:8080/",
          "height": 85
        },
        "outputId": "1034c4b3-e270-4191-e405-ba1630d252bb"
      },
      "source": [
        "train_X, test_X, train_y, test_y = train_test_split(flat_power_data, labels,test_size=0.3,shuffle=True)\n",
        "\n",
        "for c in C:\n",
        "  for k in kernel:\n",
        "    clf = SVC(C=c, kernel=k)\n",
        "\n",
        "    clf.fit(train_X, train_y)\n",
        "    pred = clf.predict(test_X)\n",
        "    print('kernel:', k, '\tC:', c, '\tSVM Accuracy:', 100*accuracy_score(test_y,pred))"
      ],
      "execution_count": null,
      "outputs": [
        {
          "output_type": "stream",
          "text": [
            "kernel: rbf \tC: 0.0001 \tSVM Accuracy: 28.000000000000004\n",
            "kernel: rbf \tC: 0.1 \tSVM Accuracy: 28.000000000000004\n",
            "kernel: rbf \tC: 1 \tSVM Accuracy: 36.0\n",
            "kernel: rbf \tC: 10 \tSVM Accuracy: 52.0\n"
          ],
          "name": "stdout"
        }
      ]
    },
    {
      "cell_type": "code",
      "metadata": {
        "id": "PRJGJO-qyIXZ",
        "colab_type": "code",
        "colab": {
          "base_uri": "https://localhost:8080/",
          "height": 85
        },
        "outputId": "5d8d783e-c7bb-4438-e5db-594ac660b5c2"
      },
      "source": [
        "train_X, test_X, train_y, test_y = train_test_split(flat_data, labels,test_size=0.3,shuffle=True)\n",
        "\n",
        "for c in C:\n",
        "  for k in kernel:\n",
        "    clf = SVC(C=c, kernel=k)\n",
        "\n",
        "    clf.fit(train_X, train_y)\n",
        "    pred = clf.predict(test_X)\n",
        "    print('kernel:', k, '\tC:', c, '\tSVM Accuracy:', 100*accuracy_score(test_y,pred))"
      ],
      "execution_count": null,
      "outputs": [
        {
          "output_type": "stream",
          "text": [
            "kernel: rbf \tC: 0.0001 \tSVM Accuracy: 56.00000000000001\n",
            "kernel: rbf \tC: 0.1 \tSVM Accuracy: 56.00000000000001\n",
            "kernel: rbf \tC: 1 \tSVM Accuracy: 56.00000000000001\n",
            "kernel: rbf \tC: 10 \tSVM Accuracy: 60.0\n"
          ],
          "name": "stdout"
        }
      ]
    },
    {
      "cell_type": "code",
      "metadata": {
        "id": "AMV9qdI17a7k",
        "colab_type": "code",
        "colab": {
          "base_uri": "https://localhost:8080/",
          "height": 34
        },
        "outputId": "8976aa1e-63e1-4577-bce7-23950fb48d5c"
      },
      "source": [
        "np.shape(np.array(all_power_data[0]).T)"
      ],
      "execution_count": null,
      "outputs": [
        {
          "output_type": "execute_result",
          "data": {
            "text/plain": [
              "(264, 140)"
            ]
          },
          "metadata": {
            "tags": []
          },
          "execution_count": 101
        }
      ]
    },
    {
      "cell_type": "code",
      "metadata": {
        "id": "7HV0C_7O78rF",
        "colab_type": "code",
        "colab": {}
      },
      "source": [
        ""
      ],
      "execution_count": null,
      "outputs": []
    }
  ]
}