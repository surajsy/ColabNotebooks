{
  "nbformat": 4,
  "nbformat_minor": 0,
  "metadata": {
    "colab": {
      "name": "MNIST.ipynb",
      "provenance": [],
      "collapsed_sections": [],
      "authorship_tag": "ABX9TyNAx49xIAt03EZ6tcgJwSw5",
      "include_colab_link": true
    },
    "kernelspec": {
      "name": "python3",
      "display_name": "Python 3"
    },
    "accelerator": "GPU"
  },
  "cells": [
    {
      "cell_type": "markdown",
      "metadata": {
        "id": "view-in-github",
        "colab_type": "text"
      },
      "source": [
        "<a href=\"https://colab.research.google.com/github/surajsy/ColabNotebooks/blob/master/MNIST.ipynb\" target=\"_parent\"><img src=\"https://colab.research.google.com/assets/colab-badge.svg\" alt=\"Open In Colab\"/></a>"
      ]
    },
    {
      "cell_type": "code",
      "metadata": {
        "id": "ptoED37J0ifN",
        "colab_type": "code",
        "colab": {
          "base_uri": "https://localhost:8080/",
          "height": 34
        },
        "outputId": "6e9879a4-d9fc-4bea-a9ad-bb9fee142ec8"
      },
      "source": [
        "import sys\n",
        "sys.version"
      ],
      "execution_count": null,
      "outputs": [
        {
          "output_type": "execute_result",
          "data": {
            "text/plain": [
              "'3.6.9 (default, Apr 18 2020, 01:56:04) \\n[GCC 8.4.0]'"
            ]
          },
          "metadata": {
            "tags": []
          },
          "execution_count": 1
        }
      ]
    },
    {
      "cell_type": "code",
      "metadata": {
        "id": "0kI0hQVUuIFO",
        "colab_type": "code",
        "colab": {
          "base_uri": "https://localhost:8080/",
          "height": 122
        },
        "outputId": "19e636eb-091f-4318-80ad-bc86edc84e9a"
      },
      "source": [
        "from google.colab import drive\n",
        "drive.mount('/content/gdrive')"
      ],
      "execution_count": null,
      "outputs": [
        {
          "output_type": "stream",
          "text": [
            "Go to this URL in a browser: https://accounts.google.com/o/oauth2/auth?client_id=947318989803-6bn6qk8qdgf4n4g3pfee6491hc0brc4i.apps.googleusercontent.com&redirect_uri=urn%3aietf%3awg%3aoauth%3a2.0%3aoob&response_type=code&scope=email%20https%3a%2f%2fwww.googleapis.com%2fauth%2fdocs.test%20https%3a%2f%2fwww.googleapis.com%2fauth%2fdrive%20https%3a%2f%2fwww.googleapis.com%2fauth%2fdrive.photos.readonly%20https%3a%2f%2fwww.googleapis.com%2fauth%2fpeopleapi.readonly\n",
            "\n",
            "Enter your authorization code:\n",
            "··········\n",
            "Mounted at /content/gdrive\n"
          ],
          "name": "stdout"
        }
      ]
    },
    {
      "cell_type": "code",
      "metadata": {
        "id": "LrhEqCNnuqbB",
        "colab_type": "code",
        "colab": {}
      },
      "source": [
        "import torch\n",
        "import torch.nn as nn\n",
        "import torchvision.transforms as transforms\n",
        "from torch.autograd import Variable\n",
        "\n",
        "import scipy.io as sio\n",
        "import glob\n",
        "import numpy as np"
      ],
      "execution_count": null,
      "outputs": []
    },
    {
      "cell_type": "code",
      "metadata": {
        "id": "bVl7K_xZu_Dz",
        "colab_type": "code",
        "colab": {}
      },
      "source": [
        "path = '/content/gdrive/My Drive/PRNN/MNIST/'\n",
        "\n",
        "training_data = []\n",
        "for f in glob.glob(path+'*mnist_train*',recursive=True):\n",
        "  training_data.append(sio.loadmat(f))\n",
        "\n",
        "test_data = []\n",
        "for f in glob.glob(path+'*mnist_test*',recursive=True):\n",
        "  test_data.append(sio.loadmat(f))\n",
        "\n",
        "rot_train_data = []\n",
        "for f in glob.glob(path+'*mnist-rot_train*',recursive=True):\n",
        "  rot_train_data.append(sio.loadmat(f))\n",
        "\n",
        "rot_test_data = []\n",
        "for f in glob.glob(path+'*mnist-rot_test*',recursive=True):\n",
        "  rot_test_data.append(sio.loadmat(f))"
      ],
      "execution_count": null,
      "outputs": []
    },
    {
      "cell_type": "code",
      "metadata": {
        "id": "9Wyobt2t5C-F",
        "colab_type": "code",
        "colab": {}
      },
      "source": [
        "train_labels = training_data[0]['training_label'].astype(np.long)\n",
        "train_images = training_data[1]['training_data'].astype(np.float32)\n",
        "\n",
        "test_labels = test_data[0]['test_label'].astype(np.long)\n",
        "test_images = test_data[1]['test_data'].astype(np.float32)\n",
        "\n",
        "rot_train_labels = rot_train_data[1]['train_label'].astype(np.long)\n",
        "rot_train_images = rot_train_data[0]['train_data'].astype(np.float32)\n",
        "\n",
        "rot_test_labels = test_data[0]['test_label'].astype(np.long)\n",
        "rot_test_images = test_data[1]['test_data'].astype(np.float32)"
      ],
      "execution_count": null,
      "outputs": []
    },
    {
      "cell_type": "code",
      "metadata": {
        "id": "hCQWVEcAeaSV",
        "colab_type": "code",
        "colab": {
          "base_uri": "https://localhost:8080/",
          "height": 34
        },
        "outputId": "c5d258e2-5318-4b1a-d1a8-dfb2ba6aa273"
      },
      "source": [
        "np.shape(rot_train_images)"
      ],
      "execution_count": null,
      "outputs": [
        {
          "output_type": "execute_result",
          "data": {
            "text/plain": [
              "(12000, 28, 28)"
            ]
          },
          "metadata": {
            "tags": []
          },
          "execution_count": 12
        }
      ]
    },
    {
      "cell_type": "code",
      "metadata": {
        "id": "3H5EHN67AAEn",
        "colab_type": "code",
        "colab": {}
      },
      "source": [
        "input_size    = 784  \n",
        "hidden_size   = 500  \n",
        "num_classes   = 10   \n",
        "num_epochs    = 5     \n",
        "batch_size    = 100   \n",
        "learning_rate = 1e-3 "
      ],
      "execution_count": null,
      "outputs": []
    },
    {
      "cell_type": "code",
      "metadata": {
        "id": "tMmIkJ2cDiL9",
        "colab_type": "code",
        "colab": {}
      },
      "source": [
        "train_loader = torch.utils.data.DataLoader(dataset=list(zip(train_images,train_labels)),\n",
        "                                          batch_size=batch_size,\n",
        "                                          shuffle=True)\n",
        "\n",
        "test_loader = torch.utils.data.DataLoader(dataset=list(zip(test_images,test_labels)),\n",
        "                                          batch_size=batch_size,\n",
        "                                          shuffle=False)\n",
        "\n",
        "rot_train_loader = torch.utils.data.DataLoader(dataset=list(zip(rot_train_images,rot_train_labels.T)),\n",
        "                                          batch_size=batch_size,\n",
        "                                          shuffle=True)\n",
        "\n",
        "rot_test_loader = torch.utils.data.DataLoader(dataset=list(zip(rot_test_images,rot_test_labels)),\n",
        "                                          batch_size=batch_size,\n",
        "                                          shuffle=True)"
      ],
      "execution_count": null,
      "outputs": []
    },
    {
      "cell_type": "code",
      "metadata": {
        "id": "Bi5u-ilKCci1",
        "colab_type": "code",
        "colab": {}
      },
      "source": [
        "class Net(nn.Module):\n",
        "    def __init__(self, input_size, hidden_size, num_classes):\n",
        "        super(Net, self).__init__()                    # Inherited from the parent class nn.Module\n",
        "        self.fc1 = nn.Linear(input_size, hidden_size)  # 1st Full-Connected Layer: 784 (input data) -> 500 (hidden node)\n",
        "        self.relu = nn.ReLU()                          # Non-Linear ReLU Layer: max(0,x)\n",
        "        self.fc2 = nn.Linear(hidden_size, num_classes) # 2nd Full-Connected Layer: 500 (hidden node) -> 10 (output class)\n",
        "    \n",
        "    def forward(self, x):                              # Forward pass: stacking each layer together\n",
        "        out = self.fc1(x)\n",
        "        out = self.relu(out)\n",
        "        out = self.fc2(out)\n",
        "        return out"
      ],
      "execution_count": null,
      "outputs": []
    },
    {
      "cell_type": "code",
      "metadata": {
        "id": "-0pjJGh_Ch-_",
        "colab_type": "code",
        "colab": {}
      },
      "source": [
        "net = Net(input_size, hidden_size, num_classes)"
      ],
      "execution_count": null,
      "outputs": []
    },
    {
      "cell_type": "code",
      "metadata": {
        "id": "tnvitsSxCjLS",
        "colab_type": "code",
        "colab": {}
      },
      "source": [
        "use_cuda = True\n",
        "\n",
        "if use_cuda and torch.cuda.is_available():\n",
        "    net.cuda()"
      ],
      "execution_count": null,
      "outputs": []
    },
    {
      "cell_type": "code",
      "metadata": {
        "id": "6Tjv_bzSCqct",
        "colab_type": "code",
        "colab": {}
      },
      "source": [
        "criterion = nn.CrossEntropyLoss()\n",
        "optimizer = torch.optim.Adam(net.parameters(), lr=learning_rate)"
      ],
      "execution_count": null,
      "outputs": []
    },
    {
      "cell_type": "code",
      "metadata": {
        "id": "p1-k6-mXd4lL",
        "colab_type": "code",
        "colab": {}
      },
      "source": [
        "def train_fnn(train_loader, net, num_epochs, reshape=False):\n",
        "  for epoch in range(num_epochs):\n",
        "      for i, (images, labels) in enumerate(train_loader):\n",
        "        if reshape: \n",
        "          images = Variable(images.view(-1,1,28,28))\n",
        "        else:\n",
        "          images = Variable(images.view(-1,784))         \n",
        "        labels = Variable(labels)\n",
        "          \n",
        "        if use_cuda and torch.cuda.is_available():\n",
        "            images = images.cuda()\n",
        "            labels = labels.cuda()\n",
        "        \n",
        "        optimizer.zero_grad()                             \n",
        "        outputs = net(images)                            \n",
        "        loss = criterion(outputs, labels.squeeze())                 \n",
        "        loss.backward()                                   \n",
        "        optimizer.step()                                  \n",
        "        \n",
        "        if (i+1) % 100 == 0:                             \n",
        "            print('Epoch [%d/%d], Step [%d/%d], Loss: %.4f'\n",
        "                %(epoch+1, num_epochs, i+1, len(train_images)//batch_size, loss.item()))\n",
        "\n",
        "def test_fnn(loader, net, reshape=False):              \n",
        "  correct = 0\n",
        "  total = 0\n",
        "  for images, labels in loader:\n",
        "    if reshape:\n",
        "      images = Variable(images.view(-1,1,28,28))\n",
        "    else:\n",
        "      images = Variable(images.view(-1,784))\n",
        "    \n",
        "    if use_cuda and torch.cuda.is_available():\n",
        "        images = images.cuda()\n",
        "        labels = labels.cuda()\n",
        "    \n",
        "    \n",
        "    outputs = net(images)\n",
        "    _, predicted = torch.max(outputs.data, 1)\n",
        "    total += labels.size(0)\n",
        "    # print(predicted.size(), labels.size())                    \n",
        "    correct += (predicted == labels.squeeze()).sum()     \n",
        "      \n",
        "  print('Accuracy of the network on the 10K test images: %d %%' % (100 * correct / total))"
      ],
      "execution_count": null,
      "outputs": []
    },
    {
      "cell_type": "code",
      "metadata": {
        "id": "gMWGm0tcCzbY",
        "colab_type": "code",
        "colab": {
          "base_uri": "https://localhost:8080/",
          "height": 442
        },
        "outputId": "ea8fe47d-81f1-44b9-b232-b3e7bd45242d"
      },
      "source": [
        "train_fnn(train_loader, net, num_epochs)"
      ],
      "execution_count": null,
      "outputs": [
        {
          "output_type": "stream",
          "text": [
            "Epoch [1/5], Step [100/500], Loss: 0.1201\n",
            "Epoch [1/5], Step [200/500], Loss: 0.0234\n",
            "Epoch [1/5], Step [300/500], Loss: 0.0219\n",
            "Epoch [1/5], Step [400/500], Loss: 0.0339\n",
            "Epoch [1/5], Step [500/500], Loss: 0.0108\n",
            "Epoch [2/5], Step [100/500], Loss: 0.0135\n",
            "Epoch [2/5], Step [200/500], Loss: 0.0119\n",
            "Epoch [2/5], Step [300/500], Loss: 0.0174\n",
            "Epoch [2/5], Step [400/500], Loss: 0.0156\n",
            "Epoch [2/5], Step [500/500], Loss: 0.0079\n",
            "Epoch [3/5], Step [100/500], Loss: 0.0108\n",
            "Epoch [3/5], Step [200/500], Loss: 0.0065\n",
            "Epoch [3/5], Step [300/500], Loss: 0.0030\n",
            "Epoch [3/5], Step [400/500], Loss: 0.0138\n",
            "Epoch [3/5], Step [500/500], Loss: 0.0120\n",
            "Epoch [4/5], Step [100/500], Loss: 0.0053\n",
            "Epoch [4/5], Step [200/500], Loss: 0.0039\n",
            "Epoch [4/5], Step [300/500], Loss: 0.0100\n",
            "Epoch [4/5], Step [400/500], Loss: 0.0075\n",
            "Epoch [4/5], Step [500/500], Loss: 0.0107\n",
            "Epoch [5/5], Step [100/500], Loss: 0.0072\n",
            "Epoch [5/5], Step [200/500], Loss: 0.0050\n",
            "Epoch [5/5], Step [300/500], Loss: 0.0065\n",
            "Epoch [5/5], Step [400/500], Loss: 0.0019\n",
            "Epoch [5/5], Step [500/500], Loss: 0.0036\n"
          ],
          "name": "stdout"
        }
      ]
    },
    {
      "cell_type": "code",
      "metadata": {
        "id": "G1VRyjgZES8f",
        "colab_type": "code",
        "colab": {
          "base_uri": "https://localhost:8080/",
          "height": 51
        },
        "outputId": "e6ec25fa-5fd3-40ad-a319-97afd6f8f1c3"
      },
      "source": [
        "test_fnn(test_loader, net)\n",
        "test_fnn(rot_test_loader, net)"
      ],
      "execution_count": null,
      "outputs": [
        {
          "output_type": "stream",
          "text": [
            "Accuracy of the network on the 10K test images: 98 %\n",
            "Accuracy of the network on the 10K test images: 98 %\n"
          ],
          "name": "stdout"
        }
      ]
    },
    {
      "cell_type": "code",
      "metadata": {
        "id": "NCipkZEaLxGw",
        "colab_type": "code",
        "colab": {}
      },
      "source": [
        "torch.save(net.state_dict(), path+'fnn_model.pkl')"
      ],
      "execution_count": null,
      "outputs": []
    },
    {
      "cell_type": "code",
      "metadata": {
        "id": "lAXhKX6iL6ri",
        "colab_type": "code",
        "colab": {
          "base_uri": "https://localhost:8080/",
          "height": 102
        },
        "outputId": "7a220806-069c-4c32-a319-cabcc93bc859"
      },
      "source": [
        "train_fnn(rot_train_loader, net, num_epochs)"
      ],
      "execution_count": null,
      "outputs": [
        {
          "output_type": "stream",
          "text": [
            "Epoch [1/5], Step [100/500], Loss: 0.5901\n",
            "Epoch [2/5], Step [100/500], Loss: 0.5078\n",
            "Epoch [3/5], Step [100/500], Loss: 0.0585\n",
            "Epoch [4/5], Step [100/500], Loss: 0.0133\n",
            "Epoch [5/5], Step [100/500], Loss: 0.0130\n"
          ],
          "name": "stdout"
        }
      ]
    },
    {
      "cell_type": "code",
      "metadata": {
        "id": "Gh_yeauNXfvI",
        "colab_type": "code",
        "colab": {
          "base_uri": "https://localhost:8080/",
          "height": 51
        },
        "outputId": "21378a8b-c276-492d-ca09-ef8ed3765312"
      },
      "source": [
        "test_fnn(test_loader, net)\n",
        "test_fnn(rot_test_loader, net)"
      ],
      "execution_count": null,
      "outputs": [
        {
          "output_type": "stream",
          "text": [
            "Accuracy of the network on the 10K test images: 76 %\n",
            "Accuracy of the network on the 10K test images: 76 %\n"
          ],
          "name": "stdout"
        }
      ]
    },
    {
      "cell_type": "code",
      "metadata": {
        "id": "onZ9g4meZPsj",
        "colab_type": "code",
        "colab": {}
      },
      "source": [
        "class ConvNet(nn.Module):\n",
        "    def __init__(self, num_classes):\n",
        "        super(ConvNet, self).__init__()\n",
        "        self.conv1 = nn.Conv2d(1, 10, 5)\n",
        "        self.conv2 = nn.Conv2d(10, 20, 5)\n",
        "        self.maxpool1 = nn.MaxPool2d(2)\n",
        "        self.maxpool2 = nn.MaxPool2d(2)\n",
        "        self.flatten = nn.Flatten()                    \n",
        "        self.fc1 = nn.Linear(320,50)  \n",
        "        self.relu = nn.ReLU()                          \n",
        "        self.fc2 = nn.Linear(50, num_classes) \n",
        "    \n",
        "    def forward(self, x):                              \n",
        "        out = self.conv1(x)\n",
        "        out = self.maxpool1(out)\n",
        "\n",
        "        out = self.conv2(out)\n",
        "        out = self.maxpool2(out)\n",
        "\n",
        "        out = self.flatten(out)\n",
        "        out = self.fc1(out)\n",
        "        out = self.relu(out)\n",
        "        out = self.fc2(out)\n",
        "        return out"
      ],
      "execution_count": null,
      "outputs": []
    },
    {
      "cell_type": "code",
      "metadata": {
        "id": "ApF66DapjcQL",
        "colab_type": "code",
        "colab": {}
      },
      "source": [
        "conv_net = ConvNet(num_classes)"
      ],
      "execution_count": null,
      "outputs": []
    },
    {
      "cell_type": "code",
      "metadata": {
        "id": "y96F_Wb5nDYO",
        "colab_type": "code",
        "colab": {}
      },
      "source": [
        "use_cuda = True\n",
        "\n",
        "if use_cuda and torch.cuda.is_available():\n",
        "    conv_net.cuda()"
      ],
      "execution_count": null,
      "outputs": []
    },
    {
      "cell_type": "code",
      "metadata": {
        "id": "PeNzAH-evXxW",
        "colab_type": "code",
        "colab": {}
      },
      "source": [
        "criterion = nn.CrossEntropyLoss()\n",
        "optimizer = torch.optim.Adam(conv_net.parameters(), lr=learning_rate)"
      ],
      "execution_count": null,
      "outputs": []
    },
    {
      "cell_type": "code",
      "metadata": {
        "id": "3Ctjorgkjkun",
        "colab_type": "code",
        "colab": {
          "base_uri": "https://localhost:8080/",
          "height": 442
        },
        "outputId": "1f7e7995-dd62-40db-820a-3d04550022ff"
      },
      "source": [
        "train_fnn(train_loader, conv_net, num_epochs, reshape=True)"
      ],
      "execution_count": null,
      "outputs": [
        {
          "output_type": "stream",
          "text": [
            "Epoch [1/5], Step [100/500], Loss: 0.0205\n",
            "Epoch [1/5], Step [200/500], Loss: 0.0063\n",
            "Epoch [1/5], Step [300/500], Loss: 0.0211\n",
            "Epoch [1/5], Step [400/500], Loss: 0.0104\n",
            "Epoch [1/5], Step [500/500], Loss: 0.0028\n",
            "Epoch [2/5], Step [100/500], Loss: 0.0038\n",
            "Epoch [2/5], Step [200/500], Loss: 0.0068\n",
            "Epoch [2/5], Step [300/500], Loss: 0.0028\n",
            "Epoch [2/5], Step [400/500], Loss: 0.0010\n",
            "Epoch [2/5], Step [500/500], Loss: 0.0030\n",
            "Epoch [3/5], Step [100/500], Loss: 0.0077\n",
            "Epoch [3/5], Step [200/500], Loss: 0.0018\n",
            "Epoch [3/5], Step [300/500], Loss: 0.0012\n",
            "Epoch [3/5], Step [400/500], Loss: 0.0033\n",
            "Epoch [3/5], Step [500/500], Loss: 0.0008\n",
            "Epoch [4/5], Step [100/500], Loss: 0.0030\n",
            "Epoch [4/5], Step [200/500], Loss: 0.0027\n",
            "Epoch [4/5], Step [300/500], Loss: 0.0026\n",
            "Epoch [4/5], Step [400/500], Loss: 0.0001\n",
            "Epoch [4/5], Step [500/500], Loss: 0.0004\n",
            "Epoch [5/5], Step [100/500], Loss: 0.0046\n",
            "Epoch [5/5], Step [200/500], Loss: 0.0050\n",
            "Epoch [5/5], Step [300/500], Loss: 0.0016\n",
            "Epoch [5/5], Step [400/500], Loss: 0.0187\n",
            "Epoch [5/5], Step [500/500], Loss: 0.0010\n"
          ],
          "name": "stdout"
        }
      ]
    },
    {
      "cell_type": "code",
      "metadata": {
        "id": "xIZNhJY1lFtv",
        "colab_type": "code",
        "colab": {
          "base_uri": "https://localhost:8080/",
          "height": 51
        },
        "outputId": "87700016-46ca-4117-a994-e6af2d78faed"
      },
      "source": [
        "test_fnn(test_loader, conv_net, reshape=True)\n",
        "test_fnn(rot_test_loader, conv_net, reshape=True)"
      ],
      "execution_count": null,
      "outputs": [
        {
          "output_type": "stream",
          "text": [
            "Accuracy of the network on the 10K test images: 98 %\n",
            "Accuracy of the network on the 10K test images: 98 %\n"
          ],
          "name": "stdout"
        }
      ]
    },
    {
      "cell_type": "code",
      "metadata": {
        "id": "kyRCLojNviCJ",
        "colab_type": "code",
        "colab": {
          "base_uri": "https://localhost:8080/",
          "height": 102
        },
        "outputId": "42a2aef9-32f6-459f-9ef6-65a2deecc047"
      },
      "source": [
        "train_fnn(rot_train_loader, conv_net, num_epochs, reshape=True)"
      ],
      "execution_count": null,
      "outputs": [
        {
          "output_type": "stream",
          "text": [
            "Epoch [1/5], Step [100/500], Loss: 0.1132\n",
            "Epoch [2/5], Step [100/500], Loss: 0.0593\n",
            "Epoch [3/5], Step [100/500], Loss: 0.0088\n",
            "Epoch [4/5], Step [100/500], Loss: 0.0231\n",
            "Epoch [5/5], Step [100/500], Loss: 0.0035\n"
          ],
          "name": "stdout"
        }
      ]
    },
    {
      "cell_type": "code",
      "metadata": {
        "id": "_CBsxYJFvsTT",
        "colab_type": "code",
        "colab": {
          "base_uri": "https://localhost:8080/",
          "height": 51
        },
        "outputId": "57e9bdc3-2139-4278-c0b5-cbedfb27d860"
      },
      "source": [
        "test_fnn(test_loader, conv_net, reshape=True)\n",
        "test_fnn(rot_test_loader, conv_net, reshape=True)"
      ],
      "execution_count": null,
      "outputs": [
        {
          "output_type": "stream",
          "text": [
            "Accuracy of the network on the 10K test images: 95 %\n",
            "Accuracy of the network on the 10K test images: 95 %\n"
          ],
          "name": "stdout"
        }
      ]
    },
    {
      "cell_type": "code",
      "metadata": {
        "id": "Vezyqjsmv48t",
        "colab_type": "code",
        "colab": {}
      },
      "source": [
        "from sklearn.svm import SVC\n",
        "from sklearn.metrics import accuracy_score"
      ],
      "execution_count": null,
      "outputs": []
    },
    {
      "cell_type": "code",
      "metadata": {
        "id": "jFotTeWrhb_a",
        "colab_type": "code",
        "colab": {}
      },
      "source": [
        "C = [0.1, 1, 10]\n",
        "k = 'rbf'"
      ],
      "execution_count": null,
      "outputs": []
    },
    {
      "cell_type": "code",
      "metadata": {
        "id": "kkimCHYjiFB0",
        "colab_type": "code",
        "colab": {}
      },
      "source": [
        "rot_train = np.reshape(rot_train_images, (-1, 784))"
      ],
      "execution_count": null,
      "outputs": []
    },
    {
      "cell_type": "code",
      "metadata": {
        "id": "YoP7H871iUl_",
        "colab_type": "code",
        "colab": {
          "base_uri": "https://localhost:8080/",
          "height": 34
        },
        "outputId": "ec45483a-8bfb-4f93-c86c-56f0fb8a866d"
      },
      "source": [
        "np.shape(rot_train)"
      ],
      "execution_count": null,
      "outputs": [
        {
          "output_type": "execute_result",
          "data": {
            "text/plain": [
              "(12000, 784)"
            ]
          },
          "metadata": {
            "tags": []
          },
          "execution_count": 14
        }
      ]
    },
    {
      "cell_type": "code",
      "metadata": {
        "id": "zQOo6dnwhQHW",
        "colab_type": "code",
        "colab": {
          "base_uri": "https://localhost:8080/",
          "height": 51
        },
        "outputId": "ac52ff99-62fa-4320-ee8f-1d60a44fef34"
      },
      "source": [
        "for c in C:\n",
        "  clf = SVC(C=c, kernel=k, degree=5)\n",
        "  clf.fit(train_images, train_labels)\n",
        "  pred = clf.predict(test_images)\n",
        "  print('non-rot: kernel:', k, '\tC:', c, '\tSVM Accuracy:', 100*accuracy_score(test_labels,pred))\n",
        "  pred = clf.predict(rot_test_images)\n",
        "  print('non-rot: kernel:', k, '\tC:', c, '\tSVM Accuracy:', 100*accuracy_score(rot_test_labels,pred))"
      ],
      "execution_count": null,
      "outputs": [
        {
          "output_type": "stream",
          "text": [
            "/usr/local/lib/python3.6/dist-packages/sklearn/utils/validation.py:760: DataConversionWarning: A column-vector y was passed when a 1d array was expected. Please change the shape of y to (n_samples, ), for example using ravel().\n",
            "  y = column_or_1d(y, warn=True)\n"
          ],
          "name": "stderr"
        }
      ]
    },
    {
      "cell_type": "code",
      "metadata": {
        "id": "Be72rNsWitKR",
        "colab_type": "code",
        "colab": {}
      },
      "source": [
        "all_train = np.concatenate((train_images, rot_train), axis=0)"
      ],
      "execution_count": null,
      "outputs": []
    },
    {
      "cell_type": "code",
      "metadata": {
        "id": "iSELuEH3i7Uu",
        "colab_type": "code",
        "colab": {
          "base_uri": "https://localhost:8080/",
          "height": 34
        },
        "outputId": "787bf054-bbcf-42e4-d51b-9bd4c04eb8aa"
      },
      "source": [
        "np.shape(all_train)"
      ],
      "execution_count": null,
      "outputs": [
        {
          "output_type": "execute_result",
          "data": {
            "text/plain": [
              "(62000, 784)"
            ]
          },
          "metadata": {
            "tags": []
          },
          "execution_count": 17
        }
      ]
    },
    {
      "cell_type": "code",
      "metadata": {
        "id": "auQPWxzai-WC",
        "colab_type": "code",
        "colab": {}
      },
      "source": [
        ""
      ],
      "execution_count": null,
      "outputs": []
    }
  ]
}